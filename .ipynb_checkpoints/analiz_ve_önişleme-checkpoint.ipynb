{
 "cells": [
  {
   "cell_type": "code",
   "execution_count": 1,
   "id": "4bfff25f",
   "metadata": {},
   "outputs": [],
   "source": [
    "import pandas as pd\n",
    "import numpy as np\n",
    "import seaborn as sns\n",
    "import matplotlib.pyplot as plt\n",
    "%matplotlib inline \n",
    "from sklearn import preprocessing \n",
    "le = preprocessing.LabelEncoder()\n",
    "import warnings\n",
    "warnings.filterwarnings('ignore')\n"
   ]
  },
  {
   "cell_type": "code",
   "execution_count": 2,
   "id": "f49066e8",
   "metadata": {},
   "outputs": [],
   "source": [
    "df = pd.read_csv(\"emlak_veri.csv\",encoding=\"utf-8\")"
   ]
  },
  {
   "cell_type": "code",
   "execution_count": 3,
   "id": "1d0e4cf9",
   "metadata": {},
   "outputs": [
    {
     "data": {
      "text/html": [
       "<div>\n",
       "<style scoped>\n",
       "    .dataframe tbody tr th:only-of-type {\n",
       "        vertical-align: middle;\n",
       "    }\n",
       "\n",
       "    .dataframe tbody tr th {\n",
       "        vertical-align: top;\n",
       "    }\n",
       "\n",
       "    .dataframe thead th {\n",
       "        text-align: right;\n",
       "    }\n",
       "</style>\n",
       "<table border=\"1\" class=\"dataframe\">\n",
       "  <thead>\n",
       "    <tr style=\"text-align: right;\">\n",
       "      <th></th>\n",
       "      <th>url</th>\n",
       "      <th>price</th>\n",
       "      <th>İlan Numarası</th>\n",
       "      <th>İlan Güncelleme Tarihi</th>\n",
       "      <th>Kategorisi</th>\n",
       "      <th>Net Metrekare</th>\n",
       "      <th>Oda Sayısı</th>\n",
       "      <th>Bulunduğu Kat</th>\n",
       "      <th>Isıtma Tipi</th>\n",
       "      <th>Krediye Uygunluk</th>\n",
       "      <th>...</th>\n",
       "      <th>Balkon Tipi</th>\n",
       "      <th>Kira Getirisi</th>\n",
       "      <th>Balkon Metrekare</th>\n",
       "      <th>Eşya Durumu</th>\n",
       "      <th>İpotek Durumu</th>\n",
       "      <th>Salon Metrekare</th>\n",
       "      <th>WC Metrekare</th>\n",
       "      <th>Pafta</th>\n",
       "      <th>Ada</th>\n",
       "      <th>Parsel</th>\n",
       "    </tr>\n",
       "  </thead>\n",
       "  <tbody>\n",
       "    <tr>\n",
       "      <th>0</th>\n",
       "      <td>https://www.emlakjet.com//ilan/10-yillik-dogal...</td>\n",
       "      <td>1.200.000 TL</td>\n",
       "      <td>14435185</td>\n",
       "      <td>22 Aralık 2023</td>\n",
       "      <td>Satılık</td>\n",
       "      <td>100 M2</td>\n",
       "      <td>2+1</td>\n",
       "      <td>Düz Giriş (Zemin)</td>\n",
       "      <td>Kombi Doğalgaz</td>\n",
       "      <td>Krediye Uygun</td>\n",
       "      <td>...</td>\n",
       "      <td>Açık Balkon</td>\n",
       "      <td>7000 TL</td>\n",
       "      <td>40 M2</td>\n",
       "      <td>Boş</td>\n",
       "      <td>Yok</td>\n",
       "      <td>18 M2</td>\n",
       "      <td>10 M2</td>\n",
       "      <td>0</td>\n",
       "      <td>1384</td>\n",
       "      <td>19</td>\n",
       "    </tr>\n",
       "    <tr>\n",
       "      <th>1</th>\n",
       "      <td>https://www.emlakjet.com//ilan/doganay-gayrime...</td>\n",
       "      <td>3.300.000 TL</td>\n",
       "      <td>14431060</td>\n",
       "      <td>21 Aralık 2023</td>\n",
       "      <td>Satılık</td>\n",
       "      <td>170 M2</td>\n",
       "      <td>5+1</td>\n",
       "      <td>3.Kat</td>\n",
       "      <td>Merkezi Kömür</td>\n",
       "      <td>Krediye Uygun</td>\n",
       "      <td>...</td>\n",
       "      <td>Açık Balkon</td>\n",
       "      <td>7000 TL</td>\n",
       "      <td>40 M2</td>\n",
       "      <td>Boş</td>\n",
       "      <td>Yok</td>\n",
       "      <td>18 M2</td>\n",
       "      <td>10 M2</td>\n",
       "      <td>0</td>\n",
       "      <td>1384</td>\n",
       "      <td>19</td>\n",
       "    </tr>\n",
       "    <tr>\n",
       "      <th>2</th>\n",
       "      <td>https://www.emlakjet.com//ilan/danis-gayrimenk...</td>\n",
       "      <td>1.320.000 TL</td>\n",
       "      <td>14428038</td>\n",
       "      <td>20 Aralık 2023</td>\n",
       "      <td>Satılık</td>\n",
       "      <td>55 M2</td>\n",
       "      <td>1+1</td>\n",
       "      <td>2.Kat</td>\n",
       "      <td>Yerden Isıtma</td>\n",
       "      <td>Krediye Uygun</td>\n",
       "      <td>...</td>\n",
       "      <td>Açık Balkon</td>\n",
       "      <td>7000 TL</td>\n",
       "      <td>40 M2</td>\n",
       "      <td>Boş</td>\n",
       "      <td>Yok</td>\n",
       "      <td>18 M2</td>\n",
       "      <td>10 M2</td>\n",
       "      <td>0</td>\n",
       "      <td>1384</td>\n",
       "      <td>19</td>\n",
       "    </tr>\n",
       "    <tr>\n",
       "      <th>3</th>\n",
       "      <td>https://www.emlakjet.com//ilan/akhisar-resatbe...</td>\n",
       "      <td>1.850.000 TL</td>\n",
       "      <td>14426047</td>\n",
       "      <td>21 Aralık 2023</td>\n",
       "      <td>Satılık</td>\n",
       "      <td>90 M2</td>\n",
       "      <td>2+1</td>\n",
       "      <td>1.Kat</td>\n",
       "      <td>Kombi Doğalgaz</td>\n",
       "      <td>Krediye Uygun</td>\n",
       "      <td>...</td>\n",
       "      <td>Açık Balkon</td>\n",
       "      <td>7000 TL</td>\n",
       "      <td>40 M2</td>\n",
       "      <td>Boş</td>\n",
       "      <td>Yok</td>\n",
       "      <td>18 M2</td>\n",
       "      <td>10 M2</td>\n",
       "      <td>0</td>\n",
       "      <td>1384</td>\n",
       "      <td>19</td>\n",
       "    </tr>\n",
       "    <tr>\n",
       "      <th>4</th>\n",
       "      <td>https://www.emlakjet.com//ilan/manisa-yunusemr...</td>\n",
       "      <td>1.575.000 TL</td>\n",
       "      <td>14416218</td>\n",
       "      <td>23 Aralık 2023</td>\n",
       "      <td>Satılık</td>\n",
       "      <td>60 M2</td>\n",
       "      <td>1+1</td>\n",
       "      <td>2.Kat</td>\n",
       "      <td>Kombi Doğalgaz</td>\n",
       "      <td>Krediye Uygun</td>\n",
       "      <td>...</td>\n",
       "      <td>Açık Balkon</td>\n",
       "      <td>4000 TL</td>\n",
       "      <td>6 M2</td>\n",
       "      <td>Boş</td>\n",
       "      <td>Yok</td>\n",
       "      <td>18 M2</td>\n",
       "      <td>10 M2</td>\n",
       "      <td>0</td>\n",
       "      <td>1384</td>\n",
       "      <td>19</td>\n",
       "    </tr>\n",
       "    <tr>\n",
       "      <th>...</th>\n",
       "      <td>...</td>\n",
       "      <td>...</td>\n",
       "      <td>...</td>\n",
       "      <td>...</td>\n",
       "      <td>...</td>\n",
       "      <td>...</td>\n",
       "      <td>...</td>\n",
       "      <td>...</td>\n",
       "      <td>...</td>\n",
       "      <td>...</td>\n",
       "      <td>...</td>\n",
       "      <td>...</td>\n",
       "      <td>...</td>\n",
       "      <td>...</td>\n",
       "      <td>...</td>\n",
       "      <td>...</td>\n",
       "      <td>...</td>\n",
       "      <td>...</td>\n",
       "      <td>...</td>\n",
       "      <td>...</td>\n",
       "      <td>...</td>\n",
       "    </tr>\n",
       "    <tr>\n",
       "      <th>715</th>\n",
       "      <td>https://www.emlakjet.com//ilan/isbay-group-dan...</td>\n",
       "      <td>2.190.000 TL</td>\n",
       "      <td>14316850</td>\n",
       "      <td>22 Aralık 2023</td>\n",
       "      <td>Satılık</td>\n",
       "      <td>200 M2</td>\n",
       "      <td>4+1</td>\n",
       "      <td>Çatı Dubleks</td>\n",
       "      <td>Kombi Doğalgaz</td>\n",
       "      <td>Krediye Uygun</td>\n",
       "      <td>...</td>\n",
       "      <td>Açık Balkon</td>\n",
       "      <td>7000 TL</td>\n",
       "      <td>40 M2</td>\n",
       "      <td>Boş</td>\n",
       "      <td>Yok</td>\n",
       "      <td>18 M2</td>\n",
       "      <td>10 M2</td>\n",
       "      <td>0</td>\n",
       "      <td>1384</td>\n",
       "      <td>19</td>\n",
       "    </tr>\n",
       "    <tr>\n",
       "      <th>716</th>\n",
       "      <td>https://www.emlakjet.com//ilan/golmarmara-da-s...</td>\n",
       "      <td>850.000 TL</td>\n",
       "      <td>14315302</td>\n",
       "      <td>28 Kasım 2023</td>\n",
       "      <td>Satılık</td>\n",
       "      <td>75 M2</td>\n",
       "      <td>2+1</td>\n",
       "      <td>3.Kat</td>\n",
       "      <td>Kombi Doğalgaz</td>\n",
       "      <td>Krediye Uygun Değil</td>\n",
       "      <td>...</td>\n",
       "      <td>Açık Balkon</td>\n",
       "      <td>7000 TL</td>\n",
       "      <td>40 M2</td>\n",
       "      <td>Boş</td>\n",
       "      <td>Yok</td>\n",
       "      <td>18 M2</td>\n",
       "      <td>10 M2</td>\n",
       "      <td>0</td>\n",
       "      <td>1384</td>\n",
       "      <td>19</td>\n",
       "    </tr>\n",
       "    <tr>\n",
       "      <th>717</th>\n",
       "      <td>https://www.emlakjet.com//ilan/dialog-dostlar-...</td>\n",
       "      <td>12.000.000 TL</td>\n",
       "      <td>14315301</td>\n",
       "      <td>28 Kasım 2023</td>\n",
       "      <td>Satılık</td>\n",
       "      <td>230 M2</td>\n",
       "      <td>5+1</td>\n",
       "      <td>3.Kat</td>\n",
       "      <td>Kombi Doğalgaz</td>\n",
       "      <td>Krediye Uygun</td>\n",
       "      <td>...</td>\n",
       "      <td>Açık Balkon</td>\n",
       "      <td>7000 TL</td>\n",
       "      <td>40 M2</td>\n",
       "      <td>Boş</td>\n",
       "      <td>Yok</td>\n",
       "      <td>18 M2</td>\n",
       "      <td>10 M2</td>\n",
       "      <td>0</td>\n",
       "      <td>1384</td>\n",
       "      <td>19</td>\n",
       "    </tr>\n",
       "    <tr>\n",
       "      <th>718</th>\n",
       "      <td>https://www.emlakjet.com//ilan/dialog-dostlard...</td>\n",
       "      <td>1.350.000 TL</td>\n",
       "      <td>14315300</td>\n",
       "      <td>28 Kasım 2023</td>\n",
       "      <td>Satılık</td>\n",
       "      <td>110 M2</td>\n",
       "      <td>3+1</td>\n",
       "      <td>3.Kat</td>\n",
       "      <td>Klimalı</td>\n",
       "      <td>Krediye Uygun</td>\n",
       "      <td>...</td>\n",
       "      <td>Açık Balkon</td>\n",
       "      <td>7000 TL</td>\n",
       "      <td>40 M2</td>\n",
       "      <td>Boş</td>\n",
       "      <td>Yok</td>\n",
       "      <td>18 M2</td>\n",
       "      <td>10 M2</td>\n",
       "      <td>0</td>\n",
       "      <td>1384</td>\n",
       "      <td>19</td>\n",
       "    </tr>\n",
       "    <tr>\n",
       "      <th>719</th>\n",
       "      <td>https://www.emlakjet.com//ilan/manisa-sehzadel...</td>\n",
       "      <td>725.000 TL</td>\n",
       "      <td>14314932</td>\n",
       "      <td>24 Aralık 2023</td>\n",
       "      <td>Satılık</td>\n",
       "      <td>75 M2</td>\n",
       "      <td>2+1</td>\n",
       "      <td>3.Kat</td>\n",
       "      <td>Sobalı</td>\n",
       "      <td>Krediye Uygun</td>\n",
       "      <td>...</td>\n",
       "      <td>Açık Balkon</td>\n",
       "      <td>7000 TL</td>\n",
       "      <td>40 M2</td>\n",
       "      <td>Boş</td>\n",
       "      <td>Yok</td>\n",
       "      <td>18 M2</td>\n",
       "      <td>10 M2</td>\n",
       "      <td>0</td>\n",
       "      <td>1384</td>\n",
       "      <td>19</td>\n",
       "    </tr>\n",
       "  </tbody>\n",
       "</table>\n",
       "<p>720 rows × 42 columns</p>\n",
       "</div>"
      ],
      "text/plain": [
       "                                                   url          price  \\\n",
       "0    https://www.emlakjet.com//ilan/10-yillik-dogal...   1.200.000 TL   \n",
       "1    https://www.emlakjet.com//ilan/doganay-gayrime...   3.300.000 TL   \n",
       "2    https://www.emlakjet.com//ilan/danis-gayrimenk...   1.320.000 TL   \n",
       "3    https://www.emlakjet.com//ilan/akhisar-resatbe...   1.850.000 TL   \n",
       "4    https://www.emlakjet.com//ilan/manisa-yunusemr...   1.575.000 TL   \n",
       "..                                                 ...            ...   \n",
       "715  https://www.emlakjet.com//ilan/isbay-group-dan...   2.190.000 TL   \n",
       "716  https://www.emlakjet.com//ilan/golmarmara-da-s...     850.000 TL   \n",
       "717  https://www.emlakjet.com//ilan/dialog-dostlar-...  12.000.000 TL   \n",
       "718  https://www.emlakjet.com//ilan/dialog-dostlard...   1.350.000 TL   \n",
       "719  https://www.emlakjet.com//ilan/manisa-sehzadel...     725.000 TL   \n",
       "\n",
       "     İlan Numarası İlan Güncelleme Tarihi Kategorisi Net Metrekare Oda Sayısı  \\\n",
       "0         14435185         22 Aralık 2023    Satılık        100 M2        2+1   \n",
       "1         14431060         21 Aralık 2023    Satılık        170 M2        5+1   \n",
       "2         14428038         20 Aralık 2023    Satılık         55 M2        1+1   \n",
       "3         14426047         21 Aralık 2023    Satılık         90 M2        2+1   \n",
       "4         14416218         23 Aralık 2023    Satılık         60 M2        1+1   \n",
       "..             ...                    ...        ...           ...        ...   \n",
       "715       14316850         22 Aralık 2023    Satılık        200 M2        4+1   \n",
       "716       14315302          28 Kasım 2023    Satılık         75 M2        2+1   \n",
       "717       14315301          28 Kasım 2023    Satılık        230 M2        5+1   \n",
       "718       14315300          28 Kasım 2023    Satılık        110 M2        3+1   \n",
       "719       14314932         24 Aralık 2023    Satılık         75 M2        2+1   \n",
       "\n",
       "         Bulunduğu Kat     Isıtma Tipi     Krediye Uygunluk  ...  Balkon Tipi  \\\n",
       "0    Düz Giriş (Zemin)  Kombi Doğalgaz        Krediye Uygun  ...  Açık Balkon   \n",
       "1                3.Kat   Merkezi Kömür        Krediye Uygun  ...  Açık Balkon   \n",
       "2                2.Kat   Yerden Isıtma        Krediye Uygun  ...  Açık Balkon   \n",
       "3                1.Kat  Kombi Doğalgaz        Krediye Uygun  ...  Açık Balkon   \n",
       "4                2.Kat  Kombi Doğalgaz        Krediye Uygun  ...  Açık Balkon   \n",
       "..                 ...             ...                  ...  ...          ...   \n",
       "715       Çatı Dubleks  Kombi Doğalgaz        Krediye Uygun  ...  Açık Balkon   \n",
       "716              3.Kat  Kombi Doğalgaz  Krediye Uygun Değil  ...  Açık Balkon   \n",
       "717              3.Kat  Kombi Doğalgaz        Krediye Uygun  ...  Açık Balkon   \n",
       "718              3.Kat         Klimalı        Krediye Uygun  ...  Açık Balkon   \n",
       "719              3.Kat          Sobalı        Krediye Uygun  ...  Açık Balkon   \n",
       "\n",
       "    Kira Getirisi Balkon Metrekare Eşya Durumu İpotek Durumu Salon Metrekare  \\\n",
       "0         7000 TL            40 M2         Boş           Yok           18 M2   \n",
       "1         7000 TL            40 M2         Boş           Yok           18 M2   \n",
       "2         7000 TL            40 M2         Boş           Yok           18 M2   \n",
       "3         7000 TL            40 M2         Boş           Yok           18 M2   \n",
       "4         4000 TL             6 M2         Boş           Yok           18 M2   \n",
       "..            ...              ...         ...           ...             ...   \n",
       "715       7000 TL            40 M2         Boş           Yok           18 M2   \n",
       "716       7000 TL            40 M2         Boş           Yok           18 M2   \n",
       "717       7000 TL            40 M2         Boş           Yok           18 M2   \n",
       "718       7000 TL            40 M2         Boş           Yok           18 M2   \n",
       "719       7000 TL            40 M2         Boş           Yok           18 M2   \n",
       "\n",
       "     WC Metrekare Pafta   Ada Parsel  \n",
       "0           10 M2     0  1384     19  \n",
       "1           10 M2     0  1384     19  \n",
       "2           10 M2     0  1384     19  \n",
       "3           10 M2     0  1384     19  \n",
       "4           10 M2     0  1384     19  \n",
       "..            ...   ...   ...    ...  \n",
       "715         10 M2     0  1384     19  \n",
       "716         10 M2     0  1384     19  \n",
       "717         10 M2     0  1384     19  \n",
       "718         10 M2     0  1384     19  \n",
       "719         10 M2     0  1384     19  \n",
       "\n",
       "[720 rows x 42 columns]"
      ]
     },
     "execution_count": 3,
     "metadata": {},
     "output_type": "execute_result"
    }
   ],
   "source": [
    "# ilk beş satır\n",
    "df "
   ]
  },
  {
   "cell_type": "code",
   "execution_count": 4,
   "id": "eb21bd04",
   "metadata": {},
   "outputs": [
    {
     "data": {
      "text/plain": [
       "Index(['url', 'price', 'İlan Numarası', 'İlan Güncelleme Tarihi', 'Kategorisi',\n",
       "       'Net Metrekare', 'Oda Sayısı', 'Bulunduğu Kat', 'Isıtma Tipi',\n",
       "       'Krediye Uygunluk', 'Banyo Sayısı', 'İlan Oluşturma Tarihi', 'Türü',\n",
       "       'Tipi', 'Brüt Metrekare', 'Binanın Yaşı', 'Binanın Kat Sayısı',\n",
       "       'Kullanım Durumu', 'Site İçerisinde', 'Fiyat Durumu', 'Balkon Durumu',\n",
       "       'Banyo Metrekare', 'Yapı Durumu', 'Balkon Sayısı', 'Zemin Etüdü',\n",
       "       'Yatırıma Uygunluk', 'Tapu Durumu', 'Takas', 'WC Sayısı',\n",
       "       'Görüntülü Gezilebilir mi?', 'Yapı Tipi', 'Aidat', 'Balkon Tipi',\n",
       "       'Kira Getirisi', 'Balkon Metrekare', 'Eşya Durumu', 'İpotek Durumu',\n",
       "       'Salon Metrekare', 'WC Metrekare', 'Pafta', 'Ada', 'Parsel'],\n",
       "      dtype='object')"
      ]
     },
     "execution_count": 4,
     "metadata": {},
     "output_type": "execute_result"
    }
   ],
   "source": [
    "df.columns"
   ]
  },
  {
   "cell_type": "code",
   "execution_count": 5,
   "id": "c117254f",
   "metadata": {
    "scrolled": true
   },
   "outputs": [
    {
     "name": "stdout",
     "output_type": "stream",
     "text": [
      "<class 'pandas.core.frame.DataFrame'>\n",
      "RangeIndex: 720 entries, 0 to 719\n",
      "Data columns (total 15 columns):\n",
      " #   Column           Non-Null Count  Dtype \n",
      "---  ------           --------------  ----- \n",
      " 0   price            720 non-null    object\n",
      " 1   Net Metrekare    720 non-null    object\n",
      " 2   Oda Sayısı       720 non-null    object\n",
      " 3   Bulunduğu Kat    720 non-null    object\n",
      " 4   Isıtma Tipi      720 non-null    object\n",
      " 5   Banyo Sayısı     720 non-null    object\n",
      " 6   Tipi             720 non-null    object\n",
      " 7   Binanın Yaşı     720 non-null    object\n",
      " 8   Site İçerisinde  720 non-null    object\n",
      " 9   Yapı Durumu      720 non-null    object\n",
      " 10  Takas            720 non-null    object\n",
      " 11  WC Sayısı        720 non-null    object\n",
      " 12  Yapı Tipi        720 non-null    object\n",
      " 13  Aidat            720 non-null    object\n",
      " 14  Eşya Durumu      720 non-null    object\n",
      "dtypes: object(15)\n",
      "memory usage: 84.5+ KB\n"
     ]
    }
   ],
   "source": [
    "# Veri İle İlgili kısa bilgiler : veri türü, boş alan var yok \n",
    "df.drop('İlan Numarası', axis=1, inplace=True)\n",
    "df.drop('İlan Güncelleme Tarihi', axis=1, inplace=True)\n",
    "df.drop('url', axis=1, inplace=True)\n",
    "df.drop('Balkon Sayısı', axis=1, inplace=True)\n",
    "df.drop('İlan Oluşturma Tarihi', axis=1, inplace=True)\n",
    "df.drop('Brüt Metrekare', axis=1, inplace=True)\n",
    "df.drop('Balkon Durumu', axis=1, inplace=True)\n",
    "df.drop('Tapu Durumu', axis=1, inplace=True)\n",
    "df.drop('İpotek Durumu', axis=1, inplace=True)\n",
    "df.drop('Görüntülü Gezilebilir mi?', axis=1, inplace=True)\n",
    "df.drop('Kira Getirisi', axis=1, inplace=True)\n",
    "df.drop('WC Metrekare', axis=1, inplace=True)\n",
    "df.drop('Banyo Metrekare', axis=1, inplace=True)\n",
    "df.drop('Balkon Tipi', axis=1, inplace=True)\n",
    "df.drop('Fiyat Durumu', axis=1, inplace=True)\n",
    "df.drop('Zemin Etüdü', axis=1, inplace=True)\n",
    "df.drop('Balkon Metrekare', axis=1, inplace=True)\n",
    "df.drop('Parsel', axis=1, inplace=True)\n",
    "df.drop('Ada', axis=1, inplace=True)\n",
    "df.drop('Pafta', axis=1, inplace=True)\n",
    "df.drop('Salon Metrekare', axis=1, inplace=True)\n",
    "df.drop('Kategorisi', axis=1, inplace=True)\n",
    "df.drop('Krediye Uygunluk', axis=1, inplace=True)\n",
    "df.drop('Binanın Kat Sayısı', axis=1, inplace=True)\n",
    "df.drop('Kullanım Durumu', axis=1, inplace=True)\n",
    "df.drop('Yatırıma Uygunluk', axis=1, inplace=True)\n",
    "df.drop('Türü', axis=1, inplace=True)\n",
    "# tüm kolonlar nümerik iken ocean_proximity (okyanusa yakınlık) object\n",
    "df.info() #analiz 20433 olan veriler eksik"
   ]
  },
  {
   "cell_type": "code",
   "execution_count": 6,
   "id": "99120d54",
   "metadata": {},
   "outputs": [],
   "source": [
    "df = df.rename(columns = {\"price\":\"fiyat\",\n",
    "                     \"Net Metrekare\":\"net_metrekare\",\n",
    "                     \"Oda Sayısı\":\"oda_sayısı\",\n",
    "                     \"Bulunduğu Kat\":\"dairenin_katı\",\n",
    "                     \"Isıtma Tipi\":\"ısıtma\",\n",
    "                     \"Banyo Sayısı\":\"banyo_sayısı\",\n",
    "                     \"Tipi\":\"tipi\",\n",
    "                     \"Binanın Yaşı\":\"bina_yaşı\",\n",
    "                     \"Site İçerisinde\":\"site_içerisinde\",\n",
    "                     \"Yapı Durumu\":\"yapı_durumu\",\n",
    "                     \"Takas\":\"takas\",\n",
    "                     \"WC Sayısı\":\"wc_sayısı\",\n",
    "                     \"Yapı Tipi\":\"yapı_tipi\",\n",
    "                     \"Aidat\":\"aidat\",\n",
    "                     \"Eşya Durumu\":\"eşya_durumu\",\n",
    "                     })"
   ]
  },
  {
   "cell_type": "code",
   "execution_count": 7,
   "id": "3750e878",
   "metadata": {},
   "outputs": [
    {
     "data": {
      "text/html": [
       "<div>\n",
       "<style scoped>\n",
       "    .dataframe tbody tr th:only-of-type {\n",
       "        vertical-align: middle;\n",
       "    }\n",
       "\n",
       "    .dataframe tbody tr th {\n",
       "        vertical-align: top;\n",
       "    }\n",
       "\n",
       "    .dataframe thead th {\n",
       "        text-align: right;\n",
       "    }\n",
       "</style>\n",
       "<table border=\"1\" class=\"dataframe\">\n",
       "  <thead>\n",
       "    <tr style=\"text-align: right;\">\n",
       "      <th></th>\n",
       "      <th>fiyat</th>\n",
       "      <th>net_metrekare</th>\n",
       "      <th>oda_sayısı</th>\n",
       "      <th>dairenin_katı</th>\n",
       "      <th>ısıtma</th>\n",
       "      <th>banyo_sayısı</th>\n",
       "      <th>tipi</th>\n",
       "      <th>bina_yaşı</th>\n",
       "      <th>site_içerisinde</th>\n",
       "      <th>yapı_durumu</th>\n",
       "      <th>takas</th>\n",
       "      <th>wc_sayısı</th>\n",
       "      <th>yapı_tipi</th>\n",
       "      <th>aidat</th>\n",
       "      <th>eşya_durumu</th>\n",
       "    </tr>\n",
       "  </thead>\n",
       "  <tbody>\n",
       "    <tr>\n",
       "      <th>0</th>\n",
       "      <td>1.200.000 TL</td>\n",
       "      <td>100 M2</td>\n",
       "      <td>2+1</td>\n",
       "      <td>Düz Giriş (Zemin)</td>\n",
       "      <td>Kombi Doğalgaz</td>\n",
       "      <td>1</td>\n",
       "      <td>Daire</td>\n",
       "      <td>5-10</td>\n",
       "      <td>Hayır</td>\n",
       "      <td>İkinci El</td>\n",
       "      <td>Yok</td>\n",
       "      <td>2</td>\n",
       "      <td>Betonarme</td>\n",
       "      <td>1 TL</td>\n",
       "      <td>Boş</td>\n",
       "    </tr>\n",
       "    <tr>\n",
       "      <th>1</th>\n",
       "      <td>3.300.000 TL</td>\n",
       "      <td>170 M2</td>\n",
       "      <td>5+1</td>\n",
       "      <td>3.Kat</td>\n",
       "      <td>Merkezi Kömür</td>\n",
       "      <td>2</td>\n",
       "      <td>Daire</td>\n",
       "      <td>0 (Yeni)</td>\n",
       "      <td>Hayır</td>\n",
       "      <td>İkinci El</td>\n",
       "      <td>Yok</td>\n",
       "      <td>2</td>\n",
       "      <td>Betonarme</td>\n",
       "      <td>1 TL</td>\n",
       "      <td>Boş</td>\n",
       "    </tr>\n",
       "    <tr>\n",
       "      <th>2</th>\n",
       "      <td>1.320.000 TL</td>\n",
       "      <td>55 M2</td>\n",
       "      <td>1+1</td>\n",
       "      <td>2.Kat</td>\n",
       "      <td>Yerden Isıtma</td>\n",
       "      <td>1</td>\n",
       "      <td>Daire</td>\n",
       "      <td>0 (Yeni)</td>\n",
       "      <td>Hayır</td>\n",
       "      <td>Sıfır</td>\n",
       "      <td>Var</td>\n",
       "      <td>1</td>\n",
       "      <td>Betonarme</td>\n",
       "      <td>1 TL</td>\n",
       "      <td>Boş</td>\n",
       "    </tr>\n",
       "    <tr>\n",
       "      <th>3</th>\n",
       "      <td>1.850.000 TL</td>\n",
       "      <td>90 M2</td>\n",
       "      <td>2+1</td>\n",
       "      <td>1.Kat</td>\n",
       "      <td>Kombi Doğalgaz</td>\n",
       "      <td>1</td>\n",
       "      <td>Daire</td>\n",
       "      <td>0 (Yeni)</td>\n",
       "      <td>Hayır</td>\n",
       "      <td>Sıfır</td>\n",
       "      <td>Var</td>\n",
       "      <td>1</td>\n",
       "      <td>Betonarme</td>\n",
       "      <td>1 TL</td>\n",
       "      <td>Boş</td>\n",
       "    </tr>\n",
       "    <tr>\n",
       "      <th>4</th>\n",
       "      <td>1.575.000 TL</td>\n",
       "      <td>60 M2</td>\n",
       "      <td>1+1</td>\n",
       "      <td>2.Kat</td>\n",
       "      <td>Kombi Doğalgaz</td>\n",
       "      <td>1</td>\n",
       "      <td>Daire</td>\n",
       "      <td>1</td>\n",
       "      <td>Hayır</td>\n",
       "      <td>İkinci El</td>\n",
       "      <td>Yok</td>\n",
       "      <td>2</td>\n",
       "      <td>Betonarme</td>\n",
       "      <td>150 TL</td>\n",
       "      <td>Boş</td>\n",
       "    </tr>\n",
       "  </tbody>\n",
       "</table>\n",
       "</div>"
      ],
      "text/plain": [
       "          fiyat net_metrekare oda_sayısı      dairenin_katı          ısıtma  \\\n",
       "0  1.200.000 TL        100 M2        2+1  Düz Giriş (Zemin)  Kombi Doğalgaz   \n",
       "1  3.300.000 TL        170 M2        5+1              3.Kat   Merkezi Kömür   \n",
       "2  1.320.000 TL         55 M2        1+1              2.Kat   Yerden Isıtma   \n",
       "3  1.850.000 TL         90 M2        2+1              1.Kat  Kombi Doğalgaz   \n",
       "4  1.575.000 TL         60 M2        1+1              2.Kat  Kombi Doğalgaz   \n",
       "\n",
       "  banyo_sayısı   tipi bina_yaşı site_içerisinde yapı_durumu takas wc_sayısı  \\\n",
       "0            1  Daire      5-10           Hayır   İkinci El   Yok         2   \n",
       "1            2  Daire  0 (Yeni)           Hayır   İkinci El   Yok         2   \n",
       "2            1  Daire  0 (Yeni)           Hayır       Sıfır   Var         1   \n",
       "3            1  Daire  0 (Yeni)           Hayır       Sıfır   Var         1   \n",
       "4            1  Daire         1           Hayır   İkinci El   Yok         2   \n",
       "\n",
       "   yapı_tipi   aidat eşya_durumu  \n",
       "0  Betonarme    1 TL         Boş  \n",
       "1  Betonarme    1 TL         Boş  \n",
       "2  Betonarme    1 TL         Boş  \n",
       "3  Betonarme    1 TL         Boş  \n",
       "4  Betonarme  150 TL         Boş  "
      ]
     },
     "execution_count": 7,
     "metadata": {},
     "output_type": "execute_result"
    }
   ],
   "source": [
    "df.head()"
   ]
  },
  {
   "cell_type": "code",
   "execution_count": 8,
   "id": "15080403",
   "metadata": {},
   "outputs": [
    {
     "data": {
      "text/html": [
       "<div>\n",
       "<style scoped>\n",
       "    .dataframe tbody tr th:only-of-type {\n",
       "        vertical-align: middle;\n",
       "    }\n",
       "\n",
       "    .dataframe tbody tr th {\n",
       "        vertical-align: top;\n",
       "    }\n",
       "\n",
       "    .dataframe thead th {\n",
       "        text-align: right;\n",
       "    }\n",
       "</style>\n",
       "<table border=\"1\" class=\"dataframe\">\n",
       "  <thead>\n",
       "    <tr style=\"text-align: right;\">\n",
       "      <th></th>\n",
       "      <th>fiyat</th>\n",
       "      <th>net_metrekare</th>\n",
       "      <th>oda_sayısı</th>\n",
       "      <th>dairenin_katı</th>\n",
       "      <th>ısıtma</th>\n",
       "      <th>banyo_sayısı</th>\n",
       "      <th>tipi</th>\n",
       "      <th>bina_yaşı</th>\n",
       "      <th>site_içerisinde</th>\n",
       "      <th>yapı_durumu</th>\n",
       "      <th>takas</th>\n",
       "      <th>wc_sayısı</th>\n",
       "      <th>yapı_tipi</th>\n",
       "      <th>aidat</th>\n",
       "      <th>eşya_durumu</th>\n",
       "    </tr>\n",
       "  </thead>\n",
       "  <tbody>\n",
       "    <tr>\n",
       "      <th>count</th>\n",
       "      <td>720</td>\n",
       "      <td>720</td>\n",
       "      <td>720</td>\n",
       "      <td>720</td>\n",
       "      <td>720</td>\n",
       "      <td>720</td>\n",
       "      <td>720</td>\n",
       "      <td>720</td>\n",
       "      <td>720</td>\n",
       "      <td>720</td>\n",
       "      <td>720</td>\n",
       "      <td>720</td>\n",
       "      <td>720</td>\n",
       "      <td>720</td>\n",
       "      <td>720</td>\n",
       "    </tr>\n",
       "    <tr>\n",
       "      <th>unique</th>\n",
       "      <td>246</td>\n",
       "      <td>102</td>\n",
       "      <td>14</td>\n",
       "      <td>20</td>\n",
       "      <td>14</td>\n",
       "      <td>5</td>\n",
       "      <td>7</td>\n",
       "      <td>9</td>\n",
       "      <td>2</td>\n",
       "      <td>2</td>\n",
       "      <td>2</td>\n",
       "      <td>5</td>\n",
       "      <td>4</td>\n",
       "      <td>15</td>\n",
       "      <td>2</td>\n",
       "    </tr>\n",
       "    <tr>\n",
       "      <th>top</th>\n",
       "      <td>1.750.000 TL</td>\n",
       "      <td>120 M2</td>\n",
       "      <td>3+1</td>\n",
       "      <td>3.Kat</td>\n",
       "      <td>Kombi Doğalgaz</td>\n",
       "      <td>1</td>\n",
       "      <td>Daire</td>\n",
       "      <td>21 Ve Üzeri</td>\n",
       "      <td>Hayır</td>\n",
       "      <td>İkinci El</td>\n",
       "      <td>Yok</td>\n",
       "      <td>2</td>\n",
       "      <td>Betonarme</td>\n",
       "      <td>1 TL</td>\n",
       "      <td>Boş</td>\n",
       "    </tr>\n",
       "    <tr>\n",
       "      <th>freq</th>\n",
       "      <td>22</td>\n",
       "      <td>74</td>\n",
       "      <td>330</td>\n",
       "      <td>176</td>\n",
       "      <td>539</td>\n",
       "      <td>571</td>\n",
       "      <td>675</td>\n",
       "      <td>181</td>\n",
       "      <td>668</td>\n",
       "      <td>670</td>\n",
       "      <td>487</td>\n",
       "      <td>597</td>\n",
       "      <td>716</td>\n",
       "      <td>632</td>\n",
       "      <td>700</td>\n",
       "    </tr>\n",
       "  </tbody>\n",
       "</table>\n",
       "</div>"
      ],
      "text/plain": [
       "               fiyat net_metrekare oda_sayısı dairenin_katı          ısıtma  \\\n",
       "count            720           720        720           720             720   \n",
       "unique           246           102         14            20              14   \n",
       "top     1.750.000 TL        120 M2        3+1         3.Kat  Kombi Doğalgaz   \n",
       "freq              22            74        330           176             539   \n",
       "\n",
       "       banyo_sayısı   tipi    bina_yaşı site_içerisinde yapı_durumu takas  \\\n",
       "count           720    720          720             720         720   720   \n",
       "unique            5      7            9               2           2     2   \n",
       "top               1  Daire  21 Ve Üzeri           Hayır   İkinci El   Yok   \n",
       "freq            571    675          181             668         670   487   \n",
       "\n",
       "       wc_sayısı  yapı_tipi aidat eşya_durumu  \n",
       "count        720        720   720         720  \n",
       "unique         5          4    15           2  \n",
       "top            2  Betonarme  1 TL         Boş  \n",
       "freq         597        716   632         700  "
      ]
     },
     "execution_count": 8,
     "metadata": {},
     "output_type": "execute_result"
    }
   ],
   "source": [
    "# describe() metodu ile nümerik alanların istatistiksel özelliklerini görelim\n",
    "df.describe()"
   ]
  },
  {
   "cell_type": "code",
   "execution_count": 9,
   "id": "848bf641",
   "metadata": {},
   "outputs": [],
   "source": [
    "df.fiyat = df.fiyat.str.replace('TL', '')"
   ]
  },
  {
   "cell_type": "code",
   "execution_count": 10,
   "id": "0392ec6e",
   "metadata": {},
   "outputs": [
    {
     "data": {
      "text/plain": [
       "Daire          675\n",
       "Müstakil Ev     26\n",
       "Villa           11\n",
       "Köy Evi          4\n",
       "Yazlık           2\n",
       "Bina             1\n",
       "Dağ Evi          1\n",
       "Name: tipi, dtype: int64"
      ]
     },
     "execution_count": 10,
     "metadata": {},
     "output_type": "execute_result"
    }
   ],
   "source": [
    "df.tipi.value_counts()"
   ]
  },
  {
   "cell_type": "code",
   "execution_count": 11,
   "id": "85fa89b4",
   "metadata": {},
   "outputs": [
    {
     "data": {
      "text/plain": [
       "İkinci El    670\n",
       "Sıfır         50\n",
       "Name: yapı_durumu, dtype: int64"
      ]
     },
     "execution_count": 11,
     "metadata": {},
     "output_type": "execute_result"
    }
   ],
   "source": [
    "df.yapı_durumu.value_counts()"
   ]
  },
  {
   "cell_type": "code",
   "execution_count": 12,
   "id": "6abb608d",
   "metadata": {},
   "outputs": [],
   "source": [
    "df.loc[df.yapı_durumu == \"Belirtilmemiş\", \"yapı_durumu\"] = \"İkinci El\""
   ]
  },
  {
   "cell_type": "code",
   "execution_count": 13,
   "id": "7837ea0c",
   "metadata": {},
   "outputs": [
    {
     "data": {
      "text/plain": [
       "120     74\n",
       "90      57\n",
       "85      45\n",
       "125     45\n",
       "80      44\n",
       "        ..\n",
       "185      1\n",
       "400      1\n",
       "232      1\n",
       "63       1\n",
       "101      1\n",
       "Name: net_metrekare, Length: 102, dtype: int64"
      ]
     },
     "execution_count": 13,
     "metadata": {},
     "output_type": "execute_result"
    }
   ],
   "source": [
    "df[\"net_metrekare\"] = df.net_metrekare.str.replace('M2', '')\n",
    "df.net_metrekare.value_counts()"
   ]
  },
  {
   "cell_type": "code",
   "execution_count": 14,
   "id": "502403fd",
   "metadata": {},
   "outputs": [
    {
     "data": {
      "text/plain": [
       "21 Ve Üzeri    181\n",
       "0 (Yeni)       133\n",
       "5-10           121\n",
       "16-20           76\n",
       "4               70\n",
       "11-15           65\n",
       "3               29\n",
       "1               28\n",
       "2               17\n",
       "Name: bina_yaşı, dtype: int64"
      ]
     },
     "execution_count": 14,
     "metadata": {},
     "output_type": "execute_result"
    }
   ],
   "source": [
    "df.bina_yaşı.value_counts()"
   ]
  },
  {
   "cell_type": "code",
   "execution_count": 15,
   "id": "f9d9d187",
   "metadata": {},
   "outputs": [],
   "source": [
    "df.loc[df.bina_yaşı == \"0 (Yeni)\", \"bina_yaşı\"] = \"0-5\"\n",
    "df.loc[df.bina_yaşı == \"0 (Yeni)\", \"bina_yaşı\"] = \"0-5\"\n",
    "df.loc[df.bina_yaşı == \"1\", \"bina_yaşı\"] = \"0-5\"\n",
    "df.loc[df.bina_yaşı == \"2\", \"bina_yaşı\"] = \"0-5\"\n",
    "df.loc[df.bina_yaşı == \"3\", \"bina_yaşı\"] = \"0-5\"\n",
    "df.loc[df.bina_yaşı == \"4\", \"bina_yaşı\"] = \"0-5\"\n",
    "df.loc[df.bina_yaşı == \"16-20\", \"bina_yaşı\"] = \"10-25\"\n",
    "df.loc[df.bina_yaşı == \"5-10\", \"bina_yaşı\"] = \"5-10\"\n",
    "df.loc[df.bina_yaşı == \"21 Ve Üzeri\", \"bina_yaşı\"] = \"10-25\"\n",
    "df.loc[df.bina_yaşı == \"11-15\", \"bina_yaşı\"] = \"10-25\""
   ]
  },
  {
   "cell_type": "code",
   "execution_count": 19,
   "id": "50baf7cd",
   "metadata": {},
   "outputs": [],
   "source": [
    "#df[\"aidat\"] = df.aidat.str.replace('TL','')\n",
    "#df.loc[df.aidat == \"TL\", \"aidat\"] = \"0 TL\"\n",
    "df.loc[df.aidat == \"0 TL\", \"aidat\"] = \"0\"\n",
    "#df.loc[df.aidat == \"0\", \"aidat\"] = \"0 TL\"\n",
    "df.loc[df.aidat == \"Belirtilmemiş\", \"aidat\"] = \"0\"\n",
    "df.loc[df.aidat == \"5 TL\", \"aidat\"] = \"1-500\"\n",
    "df.loc[df.aidat == \"1 TL\", \"aidat\"] = \"1-500\"\n",
    "df.loc[df.aidat == \"100 TL\", \"aidat\"] = \"1-500\"\n",
    "df.loc[df.aidat == \"150 TL\", \"aidat\"] = \"1-500\"\n",
    "df.loc[df.aidat == \"80 TL\", \"aidat\"] = \"1-500\"\n",
    "df.loc[df.aidat == \"120 TL\", \"aidat\"] = \"1-500\"\n",
    "df.loc[df.aidat == \"25 TL\", \"aidat\"] = \"1-500\"\n",
    "df.loc[df.aidat == \"200 TL\", \"aidat\"] = \"1-500\"\n",
    "df.loc[df.aidat == \"75 TL\", \"aidat\"] = \"1-500\"\n",
    "df.loc[df.aidat == \"70 TL\", \"aidat\"] = \"1-500\"\n",
    "df.loc[df.aidat == \"50 TL\", \"aidat\"] = \"1-500\"\n",
    "df.loc[df.aidat == \"2250 TL\", \"aidat\"] = \"500-1000\"\n",
    "df.loc[df.aidat == \"1000 TL\", \"aidat\"] = \"500-1000\"\n",
    "df.loc[df.aidat == \"130 TL\", \"aidat\"] = \"1-500\""
   ]
  },
  {
   "cell_type": "code",
   "execution_count": 20,
   "id": "0651a5ae",
   "metadata": {},
   "outputs": [
    {
     "data": {
      "text/plain": [
       "1-500       689\n",
       "0            29\n",
       "500-1000      2\n",
       "Name: aidat, dtype: int64"
      ]
     },
     "execution_count": 20,
     "metadata": {},
     "output_type": "execute_result"
    }
   ],
   "source": [
    "df.aidat.value_counts()"
   ]
  },
  {
   "cell_type": "code",
   "execution_count": 21,
   "id": "fa6702e6",
   "metadata": {},
   "outputs": [
    {
     "data": {
      "text/plain": [
       "2      597\n",
       "1      111\n",
       "3        8\n",
       "4        3\n",
       "Yok      1\n",
       "Name: wc_sayısı, dtype: int64"
      ]
     },
     "execution_count": 21,
     "metadata": {},
     "output_type": "execute_result"
    }
   ],
   "source": [
    "df.wc_sayısı.value_counts()"
   ]
  },
  {
   "cell_type": "code",
   "execution_count": 22,
   "id": "c2de8cdc",
   "metadata": {},
   "outputs": [
    {
     "data": {
      "text/plain": [
       "2    597\n",
       "1    111\n",
       "3      8\n",
       "4      3\n",
       "0      1\n",
       "Name: wc_sayısı, dtype: int64"
      ]
     },
     "execution_count": 22,
     "metadata": {},
     "output_type": "execute_result"
    }
   ],
   "source": [
    "df.loc[df.wc_sayısı == \"Yok\", \"wc_sayısı\"] = 0\n",
    "df.loc[df.wc_sayısı == \"Belirtilmemiş\", \"wc_sayısı\"] = 0\n",
    "df.wc_sayısı.value_counts()"
   ]
  },
  {
   "cell_type": "code",
   "execution_count": 23,
   "id": "6a666af7",
   "metadata": {},
   "outputs": [
    {
     "data": {
      "text/plain": [
       "Kombi Doğalgaz         539\n",
       "Sobalı                  47\n",
       "Jeotermal               24\n",
       "Isıtma Yok              22\n",
       "Merkezi Kömür           20\n",
       "Klimalı                 18\n",
       "Merkezi Doğalgaz        15\n",
       "Yerden Isıtma           13\n",
       "Doğalgaz Sobalı          8\n",
       "Kat Kaloriferi           6\n",
       "Merkezi (Pay Ölçer)      5\n",
       "Isı Pompası              1\n",
       "Kombi Kömür              1\n",
       "Şömine                   1\n",
       "Name: ısıtma, dtype: int64"
      ]
     },
     "execution_count": 23,
     "metadata": {},
     "output_type": "execute_result"
    }
   ],
   "source": [
    "df.ısıtma.value_counts()"
   ]
  },
  {
   "cell_type": "code",
   "execution_count": 51,
   "id": "29541b95",
   "metadata": {},
   "outputs": [],
   "source": [
    "df.loc[df.ısıtma == \"Doğalgaz Sobalı\", \"ısıtma\"] = \"doğalgaz\"\n",
    "df.loc[df.ısıtma == \"Isı Pompası\", \"ısıtma\"] = \"diğer\"\n",
    "df.loc[df.ısıtma == \"Jeotermal\", \"ısıtma\"] = \"diğer\"\n",
    "df.loc[df.ısıtma == \"Kat Kaloriferi\", \"ısıtma\"] = \"doğalgaz\"\n",
    "df.loc[df.ısıtma == \"Klimalı\", \"ısıtma\"] = \"klimalı\"\n",
    "df.loc[df.ısıtma == \"Kombi Doğalgaz\", \"ısıtma\"] = \"doğalgaz\"\n",
    "df.loc[df.ısıtma == \"Kombi Kömür\", \"ısıtma\"] = \"doğalgaz\"\n",
    "df.loc[df.ısıtma == \"Merkezi (Pay Ölçer)\", \"ısıtma\"] = \"diğer\"\n",
    "df.loc[df.ısıtma == \"Merkezi Doğalgaz\", \"ısıtma\"] = \"doğalgaz\"\n",
    "df.loc[df.ısıtma == \"Merkezi Kömür\", \"ısıtma\"] = \"sobalı\"\n",
    "df.loc[df.ısıtma == \"Sobalı\", \"ısıtma\"] = \"sobalı\"\n",
    "df.loc[df.ısıtma == \"Yerden Isıtma\", \"ısıtma\"] = \"doğalgaz\"\n",
    "df.loc[df.ısıtma == \"Şömine\", \"ısıtma\"] = \"şömine\"\n",
    "df.loc[df.ısıtma == \"Isıtma Yok\", \"ısıtma\"] = \"sobalı\""
   ]
  },
  {
   "cell_type": "code",
   "execution_count": 26,
   "id": "65363bb9",
   "metadata": {},
   "outputs": [
    {
     "data": {
      "text/plain": [
       "3+1       330\n",
       "2+1       277\n",
       "1+1        43\n",
       "4+1        31\n",
       "5+1        16\n",
       "4+2         4\n",
       "1 Oda       4\n",
       "6+1         4\n",
       "6+2         4\n",
       "2.5+1       2\n",
       "8+1         2\n",
       "9+ Oda      1\n",
       "Stüdyo      1\n",
       "5+2         1\n",
       "Name: oda_sayısı, dtype: int64"
      ]
     },
     "execution_count": 26,
     "metadata": {},
     "output_type": "execute_result"
    }
   ],
   "source": [
    "df.oda_sayısı.value_counts()"
   ]
  },
  {
   "cell_type": "code",
   "execution_count": 27,
   "id": "73b0abe9",
   "metadata": {},
   "outputs": [],
   "source": [
    "df.loc[df.oda_sayısı == \"1 Oda\", \"oda_sayısı\"] = \"1\"\n",
    "df.loc[df.oda_sayısı == \"1+1\", \"oda_sayısı\"] = \"2\"\n",
    "df.loc[df.oda_sayısı == \"2+1\", \"oda_sayısı\"] = \"3\"\n",
    "df.loc[df.oda_sayısı == \"3+1\", \"oda_sayısı\"] = \"4\"\n",
    "df.loc[df.oda_sayısı == \"4+1\", \"oda_sayısı\"] = \"4+\"\n",
    "df.loc[df.oda_sayısı == \"4+2\", \"oda_sayısı\"] = \"4+\"\n",
    "df.loc[df.oda_sayısı == \"5+1\", \"oda_sayısı\"] = \"4+\"\n",
    "df.loc[df.oda_sayısı == \"5+2\", \"oda_sayısı\"] = \"4+\"\n",
    "df.loc[df.oda_sayısı == \"6+1\", \"oda_sayısı\"] = \"4+\"\n",
    "df.loc[df.oda_sayısı == \"6+2\", \"oda_sayısı\"] = \"4+\"\n",
    "df.loc[df.oda_sayısı == \"8+1\", \"oda_sayısı\"] = \"4+\"\n",
    "df.loc[df.oda_sayısı == \"9+ Oda\", \"oda_sayısı\"] = \"4+\"\n",
    "df.loc[df.oda_sayısı == \"2.5+1\", \"oda_sayısı\"] = \"4+\"\n",
    "df.loc[df.oda_sayısı == \"Stüdyo\", \"oda_sayısı\"] = \"1\""
   ]
  },
  {
   "cell_type": "code",
   "execution_count": 28,
   "id": "6a88b2ab",
   "metadata": {},
   "outputs": [
    {
     "data": {
      "text/plain": [
       "1      571\n",
       "2      136\n",
       "3        6\n",
       "4        4\n",
       "Yok      3\n",
       "Name: banyo_sayısı, dtype: int64"
      ]
     },
     "execution_count": 28,
     "metadata": {},
     "output_type": "execute_result"
    }
   ],
   "source": [
    "df.banyo_sayısı.value_counts()"
   ]
  },
  {
   "cell_type": "code",
   "execution_count": 29,
   "id": "30e5f181",
   "metadata": {},
   "outputs": [],
   "source": [
    "df.loc[df.banyo_sayısı == \"Yok\", \"banyo_sayısı\"] = 0\n",
    "df.loc[df.banyo_sayısı == \"5\", \"banyo_sayısı\"] = 5\n",
    "df.loc[df.banyo_sayısı == \"2\", \"banyo_sayısı\"] = 2\n",
    "df.loc[df.banyo_sayısı == \"1\", \"banyo_sayısı\"] = 1\n",
    "df.loc[df.banyo_sayısı == \"3\", \"banyo_sayısı\"] = 3\n",
    "df.loc[df.banyo_sayısı == \"4\", \"banyo_sayısı\"] = 4"
   ]
  },
  {
   "cell_type": "code",
   "execution_count": 30,
   "id": "48252f79",
   "metadata": {},
   "outputs": [
    {
     "data": {
      "text/plain": [
       "Boş       700\n",
       "Eşyalı     20\n",
       "Name: eşya_durumu, dtype: int64"
      ]
     },
     "execution_count": 30,
     "metadata": {},
     "output_type": "execute_result"
    }
   ],
   "source": [
    "df.eşya_durumu.value_counts()"
   ]
  },
  {
   "cell_type": "code",
   "execution_count": 31,
   "id": "e534acae",
   "metadata": {},
   "outputs": [
    {
     "data": {
      "text/plain": [
       "Betonarme    716\n",
       "Kagir          2\n",
       "Prefabrik      1\n",
       "Çelik          1\n",
       "Name: yapı_tipi, dtype: int64"
      ]
     },
     "execution_count": 31,
     "metadata": {},
     "output_type": "execute_result"
    }
   ],
   "source": [
    "df.yapı_tipi.value_counts()"
   ]
  },
  {
   "cell_type": "code",
   "execution_count": 32,
   "id": "87a5ccc1",
   "metadata": {},
   "outputs": [],
   "source": [
    "df.loc[df.yapı_tipi == \"Belirtilmemiş\", \"yapı_tipi\"] = \"Betonarme\""
   ]
  },
  {
   "cell_type": "code",
   "execution_count": 33,
   "id": "ff2efa89",
   "metadata": {},
   "outputs": [
    {
     "data": {
      "text/plain": [
       "Yok    487\n",
       "Var    233\n",
       "Name: takas, dtype: int64"
      ]
     },
     "execution_count": 33,
     "metadata": {},
     "output_type": "execute_result"
    }
   ],
   "source": [
    "df.takas.value_counts()"
   ]
  },
  {
   "cell_type": "code",
   "execution_count": 34,
   "id": "e7680894",
   "metadata": {},
   "outputs": [],
   "source": [
    "df.loc[df.takas == \"Bel\", \"takas\"] = \"Yok\""
   ]
  },
  {
   "cell_type": "code",
   "execution_count": 35,
   "id": "577b7f9c",
   "metadata": {},
   "outputs": [
    {
     "data": {
      "text/plain": [
       "3.Kat                176\n",
       "2.Kat                155\n",
       "4.Kat                 93\n",
       "Yüksek Giriş          90\n",
       "1.Kat                 72\n",
       "5.Kat                 57\n",
       "Düz Giriş (Zemin)     20\n",
       "Çatı Dubleks          15\n",
       "6.Kat                  7\n",
       "Müstakil               7\n",
       "Bahçe Katı             6\n",
       "7.Kat                  5\n",
       "Villa Tipi             4\n",
       "Kot 4 (-4).Kat         3\n",
       "Bahçe Dublex           3\n",
       "Kot 1 (-1).Kat         3\n",
       "15.Kat                 1\n",
       "Kot 3 (-3).Kat         1\n",
       "8.Kat                  1\n",
       "12.Kat                 1\n",
       "Name: dairenin_katı, dtype: int64"
      ]
     },
     "execution_count": 35,
     "metadata": {},
     "output_type": "execute_result"
    }
   ],
   "source": [
    "df.dairenin_katı.value_counts()"
   ]
  },
  {
   "cell_type": "code",
   "execution_count": 36,
   "id": "5fdf314b",
   "metadata": {},
   "outputs": [],
   "source": [
    "df.loc[df.dairenin_katı == \"Yüksek Giriş\", \"dairenin_katı\"] = \"1-10\"\n",
    "df.loc[df.dairenin_katı == \"Düz Giriş (Zemin)\", \"dairenin_katı\"] = \"1-10\"\n",
    "df.loc[df.dairenin_katı == \"Yüksek Bodrum\", \"dairenin_katı\"] = \"-1\"\n",
    "df.loc[df.dairenin_katı == \"Tam Bodrum\", \"dairenin_katı\"] = \"-1\"\n",
    "df.loc[df.dairenin_katı == \"Yarı Bodrum\", \"dairenin_katı\"] = \"-1\"\n",
    "df.loc[df.dairenin_katı == \"Müstakil\", \"dairenin_katı\"] = \"diğer\"\n",
    "df.loc[df.dairenin_katı == \"Çatı Dubleks\", \"dairenin_katı\"] = \"1-10\"\n",
    "df.loc[df.dairenin_katı == \"Çatı Katı\", \"dairenin_katı\"] = \"11-20\"\n",
    "df.loc[df.dairenin_katı == \"Villa Tipi\", \"dairenin_katı\"] = \"diğer\"\n",
    "df.loc[df.dairenin_katı == \"Bahçe Katı\", \"dairenin_katı\"] = \"1-10\"\n",
    "df.loc[df.dairenin_katı == \"Bahçe Dublex\", \"dairenin_katı\"] = \"diğer\""
   ]
  },
  {
   "cell_type": "code",
   "execution_count": 38,
   "id": "525aff42",
   "metadata": {},
   "outputs": [],
   "source": [
    "df.loc[df.dairenin_katı == \"1.Kat\", \"dairenin_katı\"] = \"1-10\"\n",
    "df.loc[df.dairenin_katı == \"2.Kat\", \"dairenin_katı\"] = \"1-10\"\n",
    "df.loc[df.dairenin_katı == \"3.Kat\", \"dairenin_katı\"] = \"1-10\"\n",
    "df.loc[df.dairenin_katı == \"4.Kat\", \"dairenin_katı\"] = \"1-10\"\n",
    "df.loc[df.dairenin_katı == \"5.Kat\", \"dairenin_katı\"] = \"1-10\"\n",
    "df.loc[df.dairenin_katı == \"6.Kat\", \"dairenin_katı\"] = \"1-10\"\n",
    "df.loc[df.dairenin_katı == \"7.Kat\", \"dairenin_katı\"] = \"1-10\"\n",
    "df.loc[df.dairenin_katı == \"8.Kat\", \"dairenin_katı\"] = \"1-10\"\n",
    "df.loc[df.dairenin_katı == \"9.Kat\", \"dairenin_katı\"] = \"1-10\"\n",
    "df.loc[df.dairenin_katı == \"10.Kat\", \"dairenin_katı\"] = \"1-10\"\n",
    "df.loc[df.dairenin_katı == \"12.Kat\", \"dairenin_katı\"] = \"11-20\"\n",
    "df.loc[df.dairenin_katı == \"15.Kat\", \"dairenin_katı\"] = \"11-20\""
   ]
  },
  {
   "cell_type": "code",
   "execution_count": 39,
   "id": "acca4699",
   "metadata": {},
   "outputs": [],
   "source": [
    "df.loc[df.dairenin_katı == \"Kot 1 (-1).Kat\", \"dairenin_katı\"] = \"-1\"\n",
    "df.loc[df.dairenin_katı == \"Kot 4 (-4).Kat\", \"dairenin_katı\"] = \"-3\"\n",
    "df.loc[df.dairenin_katı == \"Kot 3 (-3).Kat\" , \"dairenin_katı\"] = \"-3\""
   ]
  },
  {
   "cell_type": "code",
   "execution_count": 41,
   "id": "d66b9874",
   "metadata": {},
   "outputs": [
    {
     "data": {
      "text/plain": [
       "1-10     697\n",
       "diğer     14\n",
       "-3         4\n",
       "-1         3\n",
       "11-20      2\n",
       "Name: dairenin_katı, dtype: int64"
      ]
     },
     "execution_count": 41,
     "metadata": {},
     "output_type": "execute_result"
    }
   ],
   "source": [
    "df.dairenin_katı.value_counts() "
   ]
  },
  {
   "cell_type": "code",
   "execution_count": 42,
   "id": "dbdf8146",
   "metadata": {},
   "outputs": [
    {
     "data": {
      "text/plain": [
       "array(['-1', '-3', '1-10', '11-20', 'diğer'], dtype=object)"
      ]
     },
     "execution_count": 42,
     "metadata": {},
     "output_type": "execute_result"
    }
   ],
   "source": [
    "df['dairenin_katı'] = df['dairenin_katı'].astype(str)\n",
    "df[\"dairenin_katı\"] = le.fit_transform(df.dairenin_katı)\n",
    "le.classes_"
   ]
  },
  {
   "cell_type": "code",
   "execution_count": 43,
   "id": "be9c6f65",
   "metadata": {},
   "outputs": [],
   "source": [
    "df[\"net_metrekare\"] = df.net_metrekare.astype(float)"
   ]
  },
  {
   "cell_type": "code",
   "execution_count": 44,
   "id": "cae1b212",
   "metadata": {},
   "outputs": [
    {
     "data": {
      "text/plain": [
       "Daire          675\n",
       "Müstakil Ev     26\n",
       "Villa           11\n",
       "Köy Evi          4\n",
       "Yazlık           2\n",
       "Bina             1\n",
       "Dağ Evi          1\n",
       "Name: tipi, dtype: int64"
      ]
     },
     "execution_count": 44,
     "metadata": {},
     "output_type": "execute_result"
    }
   ],
   "source": [
    "df.tipi.value_counts()"
   ]
  },
  {
   "cell_type": "code",
   "execution_count": 45,
   "id": "d60e5403",
   "metadata": {},
   "outputs": [
    {
     "data": {
      "text/plain": [
       "array(['0', '1-500', '500-1000'], dtype=object)"
      ]
     },
     "execution_count": 45,
     "metadata": {},
     "output_type": "execute_result"
    }
   ],
   "source": [
    "df[\"aidat\"] = le.fit_transform(df.aidat)\n",
    "le.classes_"
   ]
  },
  {
   "cell_type": "code",
   "execution_count": 46,
   "id": "327f019d",
   "metadata": {},
   "outputs": [
    {
     "data": {
      "text/plain": [
       "array(['Bina', 'Daire', 'Dağ Evi', 'Köy Evi', 'Müstakil Ev', 'Villa',\n",
       "       'Yazlık'], dtype=object)"
      ]
     },
     "execution_count": 46,
     "metadata": {},
     "output_type": "execute_result"
    }
   ],
   "source": [
    "df[\"tipi\"] = le.fit_transform(df.tipi)\n",
    "le.classes_"
   ]
  },
  {
   "cell_type": "code",
   "execution_count": 47,
   "id": "54cbdb61",
   "metadata": {},
   "outputs": [
    {
     "data": {
      "text/plain": [
       "array(['Sıfır', 'İkinci El'], dtype=object)"
      ]
     },
     "execution_count": 47,
     "metadata": {},
     "output_type": "execute_result"
    }
   ],
   "source": [
    "df[\"yapı_durumu\"] = le.fit_transform(df.yapı_durumu)\n",
    "le.classes_"
   ]
  },
  {
   "cell_type": "code",
   "execution_count": 48,
   "id": "ffcf9ccd",
   "metadata": {},
   "outputs": [
    {
     "data": {
      "text/plain": [
       "array(['1', '2', '3', '4', '4+'], dtype=object)"
      ]
     },
     "execution_count": 48,
     "metadata": {},
     "output_type": "execute_result"
    }
   ],
   "source": [
    "df[\"oda_sayısı\"] = le.fit_transform(df.oda_sayısı)\n",
    "le.classes_"
   ]
  },
  {
   "cell_type": "code",
   "execution_count": 49,
   "id": "889953b2",
   "metadata": {},
   "outputs": [
    {
     "data": {
      "text/plain": [
       "array(['0-5', '10-25', '5-10'], dtype=object)"
      ]
     },
     "execution_count": 49,
     "metadata": {},
     "output_type": "execute_result"
    }
   ],
   "source": [
    "df[\"bina_yaşı\"] = le.fit_transform(df.bina_yaşı)\n",
    "le.classes_"
   ]
  },
  {
   "cell_type": "code",
   "execution_count": 52,
   "id": "91a4bf55",
   "metadata": {},
   "outputs": [
    {
     "data": {
      "text/plain": [
       "array([0, 1, 2, 3, 4, 5], dtype=object)"
      ]
     },
     "execution_count": 52,
     "metadata": {},
     "output_type": "execute_result"
    }
   ],
   "source": [
    "df[\"ısıtma\"]  = le.fit_transform(df.ısıtma)\n",
    "le.classes_"
   ]
  },
  {
   "cell_type": "code",
   "execution_count": 53,
   "id": "66cf38aa",
   "metadata": {},
   "outputs": [
    {
     "data": {
      "text/plain": [
       "array(['Evet', 'Hayır'], dtype=object)"
      ]
     },
     "execution_count": 53,
     "metadata": {},
     "output_type": "execute_result"
    }
   ],
   "source": [
    "df[\"site_içerisinde\"] = le.fit_transform(df.site_içerisinde)\n",
    "le.classes_"
   ]
  },
  {
   "cell_type": "code",
   "execution_count": 54,
   "id": "9ba80981",
   "metadata": {},
   "outputs": [
    {
     "data": {
      "text/plain": [
       "array(['Boş', 'Eşyalı'], dtype=object)"
      ]
     },
     "execution_count": 54,
     "metadata": {},
     "output_type": "execute_result"
    }
   ],
   "source": [
    "df[\"eşya_durumu\"] = le.fit_transform(df.eşya_durumu)\n",
    "le.classes_"
   ]
  },
  {
   "cell_type": "code",
   "execution_count": 55,
   "id": "9729b36c",
   "metadata": {},
   "outputs": [
    {
     "data": {
      "text/plain": [
       "array(['Betonarme', 'Kagir', 'Prefabrik', 'Çelik'], dtype=object)"
      ]
     },
     "execution_count": 55,
     "metadata": {},
     "output_type": "execute_result"
    }
   ],
   "source": [
    "df[\"yapı_tipi\"] = le.fit_transform(df.yapı_tipi)\n",
    "le.classes_"
   ]
  },
  {
   "cell_type": "code",
   "execution_count": 56,
   "id": "cf3b1348",
   "metadata": {},
   "outputs": [
    {
     "data": {
      "text/plain": [
       "array(['Var', 'Yok'], dtype=object)"
      ]
     },
     "execution_count": 56,
     "metadata": {},
     "output_type": "execute_result"
    }
   ],
   "source": [
    "df[\"takas\"] = le.fit_transform(df.takas)\n",
    "le.classes_"
   ]
  },
  {
   "cell_type": "code",
   "execution_count": 57,
   "id": "e65c7dad",
   "metadata": {},
   "outputs": [
    {
     "data": {
      "text/plain": [
       "array(['0', '1', '2', '3', '4'], dtype=object)"
      ]
     },
     "execution_count": 57,
     "metadata": {},
     "output_type": "execute_result"
    }
   ],
   "source": [
    "df['banyo_sayısı'] = df['banyo_sayısı'].astype(str)\n",
    "df[\"banyo_sayısı\"] = le.fit_transform(df.banyo_sayısı)\n",
    "le.classes_"
   ]
  },
  {
   "cell_type": "code",
   "execution_count": 58,
   "id": "cf807b2d",
   "metadata": {},
   "outputs": [
    {
     "data": {
      "text/plain": [
       "array(['0', '1', '2', '3', '4'], dtype=object)"
      ]
     },
     "execution_count": 58,
     "metadata": {},
     "output_type": "execute_result"
    }
   ],
   "source": [
    "df['wc_sayısı'] = df['wc_sayısı'].astype(str)\n",
    "df['wc_sayısı'] = le.fit_transform(df.wc_sayısı)\n",
    "le.classes_"
   ]
  },
  {
   "cell_type": "code",
   "execution_count": 59,
   "id": "d58e7ac9",
   "metadata": {},
   "outputs": [
    {
     "data": {
      "text/plain": [
       "count            720\n",
       "unique           246\n",
       "top       1.750.000 \n",
       "freq              22\n",
       "Name: fiyat, dtype: object"
      ]
     },
     "execution_count": 59,
     "metadata": {},
     "output_type": "execute_result"
    }
   ],
   "source": [
    "df.fiyat.describe()"
   ]
  },
  {
   "cell_type": "code",
   "execution_count": 60,
   "id": "b873db44",
   "metadata": {},
   "outputs": [
    {
     "data": {
      "text/plain": [
       "3    330\n",
       "2    277\n",
       "4     65\n",
       "1     43\n",
       "0      5\n",
       "Name: oda_sayısı, dtype: int64"
      ]
     },
     "execution_count": 60,
     "metadata": {},
     "output_type": "execute_result"
    }
   ],
   "source": [
    "df.oda_sayısı.value_counts()"
   ]
  },
  {
   "cell_type": "code",
   "execution_count": 61,
   "id": "3b67e2d5",
   "metadata": {},
   "outputs": [
    {
     "data": {
      "text/plain": [
       "<AxesSubplot:>"
      ]
     },
     "execution_count": 61,
     "metadata": {},
     "output_type": "execute_result"
    },
    {
     "data": {
      "image/png": "[encoded data removed]",
      "text/plain": [
       "<Figure size 640x480 with 1 Axes>"
      ]
     },
     "metadata": {},
     "output_type": "display_data"
    }
   ],
   "source": [
    "df.oda_sayısı.value_counts().plot.barh()"
   ]
  },
  {
   "cell_type": "code",
   "execution_count": 62,
   "id": "a00ddaef",
   "metadata": {},
   "outputs": [
    {
     "data": {
      "text/plain": [
       "1    322\n",
       "0    277\n",
       "2    121\n",
       "Name: bina_yaşı, dtype: int64"
      ]
     },
     "execution_count": 62,
     "metadata": {},
     "output_type": "execute_result"
    }
   ],
   "source": [
    "df.bina_yaşı.value_counts()"
   ]
  },
  {
   "cell_type": "code",
   "execution_count": 63,
   "id": "adce1438",
   "metadata": {},
   "outputs": [
    {
     "data": {
      "text/plain": [
       "Text(0, 0.5, 'yaş')"
      ]
     },
     "execution_count": 63,
     "metadata": {},
     "output_type": "execute_result"
    },
    {
     "data": {
      "image/png": "[encoded data removed]",
      "text/plain": [
       "<Figure size 500x1500 with 1 Axes>"
      ]
     },
     "metadata": {},
     "output_type": "display_data"
    }
   ],
   "source": [
    "fig = plt.figure(figsize=(5,15))\n",
    "df.bina_yaşı.value_counts().plot(kind = 'pie',autopct='%.1f%%');\n",
    "plt.ylabel(\"yaş\", fontsize = 20)"
   ]
  },
  {
   "cell_type": "code",
   "execution_count": 65,
   "id": "f97a0e3e",
   "metadata": {},
   "outputs": [
    {
     "data": {
      "text/plain": [
       "1    582\n",
       "3     67\n",
       "0     30\n",
       "4     22\n",
       "2     18\n",
       "5      1\n",
       "Name: ısıtma, dtype: int64"
      ]
     },
     "execution_count": 65,
     "metadata": {},
     "output_type": "execute_result"
    }
   ],
   "source": [
    "df.ısıtma.value_counts()"
   ]
  },
  {
   "cell_type": "code",
   "execution_count": 66,
   "id": "3557371b",
   "metadata": {},
   "outputs": [
    {
     "data": {
      "image/png": "[encoded data removed]",
      "text/plain": [
       "<Figure size 2000x500 with 1 Axes>"
      ]
     },
     "metadata": {},
     "output_type": "display_data"
    }
   ],
   "source": [
    "fig = plt.figure(figsize=(20,5))\n",
    "df.banyo_sayısı.value_counts().plot(kind = 'pie',autopct='%.1f%%')\n",
    "plt.ylabel(\"\", fontsize = 20)\n",
    "plt.title(\"Banyo Sayısı\");"
   ]
  },
  {
   "cell_type": "code",
   "execution_count": 67,
   "id": "40ebb503",
   "metadata": {},
   "outputs": [
    {
     "data": {
      "text/plain": [
       "2    597\n",
       "1    111\n",
       "3      8\n",
       "4      3\n",
       "0      1\n",
       "Name: wc_sayısı, dtype: int64"
      ]
     },
     "execution_count": 67,
     "metadata": {},
     "output_type": "execute_result"
    }
   ],
   "source": [
    "df.wc_sayısı.value_counts()"
   ]
  },
  {
   "cell_type": "code",
   "execution_count": 68,
   "id": "01cbdca9",
   "metadata": {},
   "outputs": [
    {
     "data": {
      "image/png": "[encoded data removed]",
      "text/plain": [
       "<Figure size 2000x500 with 1 Axes>"
      ]
     },
     "metadata": {},
     "output_type": "display_data"
    }
   ],
   "source": [
    "fig = plt.figure(figsize=(20,5))\n",
    "df.site_içerisinde.value_counts().plot(kind = 'pie',autopct='%.1f%%')\n",
    "plt.ylabel(\"\", fontsize = 20)\n",
    "plt.title(\"Site Durumu\");\n",
    "#sonraki adımlarda label encod etmezse sen et"
   ]
  },
  {
   "cell_type": "code",
   "execution_count": 70,
   "id": "14239810",
   "metadata": {},
   "outputs": [
    {
     "data": {
      "image/png": "[encoded data removed]",
      "text/plain": [
       "<Figure size 2000x500 with 1 Axes>"
      ]
     },
     "metadata": {},
     "output_type": "display_data"
    }
   ],
   "source": [
    "fig = plt.figure(figsize=(20,5))\n",
    "df.takas.value_counts().plot(kind = 'pie',autopct='%.1f%%')\n",
    "plt.ylabel(\"\", fontsize = 20)\n",
    "plt.title(\"Takas\");"
   ]
  },
  {
   "cell_type": "code",
   "execution_count": 71,
   "id": "f7e3bd91",
   "metadata": {},
   "outputs": [
    {
     "data": {
      "text/plain": [
       "<seaborn.axisgrid.FacetGrid at 0x204090d5e48>"
      ]
     },
     "execution_count": 71,
     "metadata": {},
     "output_type": "execute_result"
    },
    {
     "data": {
      "image/png": "[encoded data removed]",
      "text/plain": [
       "<Figure size 500x500 with 1 Axes>"
      ]
     },
     "metadata": {},
     "output_type": "display_data"
    }
   ],
   "source": [
    "sns.lmplot(x = 'net_metrekare', y = 'yapı_durumu', fit_reg = False, data = df)"
   ]
  },
  {
   "cell_type": "code",
   "execution_count": 72,
   "id": "65f21114",
   "metadata": {},
   "outputs": [
    {
     "name": "stdout",
     "output_type": "stream",
     "text": [
      "<class 'pandas.core.frame.DataFrame'>\n",
      "RangeIndex: 720 entries, 0 to 719\n",
      "Data columns (total 15 columns):\n",
      " #   Column           Non-Null Count  Dtype  \n",
      "---  ------           --------------  -----  \n",
      " 0   fiyat            720 non-null    object \n",
      " 1   net_metrekare    720 non-null    float64\n",
      " 2   oda_sayısı       720 non-null    int32  \n",
      " 3   dairenin_katı    720 non-null    int32  \n",
      " 4   ısıtma           720 non-null    int32  \n",
      " 5   banyo_sayısı     720 non-null    int32  \n",
      " 6   tipi             720 non-null    int32  \n",
      " 7   bina_yaşı        720 non-null    int32  \n",
      " 8   site_içerisinde  720 non-null    int32  \n",
      " 9   yapı_durumu      720 non-null    int32  \n",
      " 10  takas            720 non-null    int32  \n",
      " 11  wc_sayısı        720 non-null    int32  \n",
      " 12  yapı_tipi        720 non-null    int32  \n",
      " 13  aidat            720 non-null    int32  \n",
      " 14  eşya_durumu      720 non-null    int32  \n",
      "dtypes: float64(1), int32(13), object(1)\n",
      "memory usage: 47.9+ KB\n"
     ]
    }
   ],
   "source": [
    "df.info()"
   ]
  },
  {
   "cell_type": "code",
   "execution_count": 73,
   "id": "672fbbe5",
   "metadata": {},
   "outputs": [
    {
     "data": {
      "text/plain": [
       "fiyat              0\n",
       "net_metrekare      0\n",
       "oda_sayısı         0\n",
       "dairenin_katı      0\n",
       "ısıtma             0\n",
       "banyo_sayısı       0\n",
       "tipi               0\n",
       "bina_yaşı          0\n",
       "site_içerisinde    0\n",
       "yapı_durumu        0\n",
       "takas              0\n",
       "wc_sayısı          0\n",
       "yapı_tipi          0\n",
       "aidat              0\n",
       "eşya_durumu        0\n",
       "dtype: int64"
      ]
     },
     "execution_count": 73,
     "metadata": {},
     "output_type": "execute_result"
    }
   ],
   "source": [
    "# Eksik Veri Sayısını Bulalım\n",
    "df.isna().sum()"
   ]
  },
  {
   "cell_type": "code",
   "execution_count": 74,
   "id": "59983650",
   "metadata": {},
   "outputs": [
    {
     "data": {
      "text/plain": [
       "(720, 15)"
      ]
     },
     "execution_count": 74,
     "metadata": {},
     "output_type": "execute_result"
    }
   ],
   "source": [
    "#df.columns\n",
    "df.shape"
   ]
  },
  {
   "cell_type": "code",
   "execution_count": 75,
   "id": "62a08d4e",
   "metadata": {},
   "outputs": [
    {
     "data": {
      "text/html": [
       "<div>\n",
       "<style scoped>\n",
       "    .dataframe tbody tr th:only-of-type {\n",
       "        vertical-align: middle;\n",
       "    }\n",
       "\n",
       "    .dataframe tbody tr th {\n",
       "        vertical-align: top;\n",
       "    }\n",
       "\n",
       "    .dataframe thead th {\n",
       "        text-align: right;\n",
       "    }\n",
       "</style>\n",
       "<table border=\"1\" class=\"dataframe\">\n",
       "  <thead>\n",
       "    <tr style=\"text-align: right;\">\n",
       "      <th></th>\n",
       "      <th>fiyat</th>\n",
       "      <th>net_metrekare</th>\n",
       "      <th>oda_sayısı</th>\n",
       "      <th>dairenin_katı</th>\n",
       "      <th>ısıtma</th>\n",
       "      <th>banyo_sayısı</th>\n",
       "      <th>tipi</th>\n",
       "      <th>bina_yaşı</th>\n",
       "      <th>site_içerisinde</th>\n",
       "      <th>yapı_durumu</th>\n",
       "      <th>takas</th>\n",
       "      <th>wc_sayısı</th>\n",
       "      <th>yapı_tipi</th>\n",
       "      <th>aidat</th>\n",
       "      <th>eşya_durumu</th>\n",
       "    </tr>\n",
       "  </thead>\n",
       "  <tbody>\n",
       "    <tr>\n",
       "      <th>0</th>\n",
       "      <td>1.200.000</td>\n",
       "      <td>100.0</td>\n",
       "      <td>2</td>\n",
       "      <td>2</td>\n",
       "      <td>1</td>\n",
       "      <td>1</td>\n",
       "      <td>1</td>\n",
       "      <td>2</td>\n",
       "      <td>1</td>\n",
       "      <td>1</td>\n",
       "      <td>1</td>\n",
       "      <td>2</td>\n",
       "      <td>0</td>\n",
       "      <td>1</td>\n",
       "      <td>0</td>\n",
       "    </tr>\n",
       "    <tr>\n",
       "      <th>1</th>\n",
       "      <td>3.300.000</td>\n",
       "      <td>170.0</td>\n",
       "      <td>4</td>\n",
       "      <td>2</td>\n",
       "      <td>3</td>\n",
       "      <td>2</td>\n",
       "      <td>1</td>\n",
       "      <td>0</td>\n",
       "      <td>1</td>\n",
       "      <td>1</td>\n",
       "      <td>1</td>\n",
       "      <td>2</td>\n",
       "      <td>0</td>\n",
       "      <td>1</td>\n",
       "      <td>0</td>\n",
       "    </tr>\n",
       "    <tr>\n",
       "      <th>2</th>\n",
       "      <td>1.320.000</td>\n",
       "      <td>55.0</td>\n",
       "      <td>1</td>\n",
       "      <td>2</td>\n",
       "      <td>1</td>\n",
       "      <td>1</td>\n",
       "      <td>1</td>\n",
       "      <td>0</td>\n",
       "      <td>1</td>\n",
       "      <td>0</td>\n",
       "      <td>0</td>\n",
       "      <td>1</td>\n",
       "      <td>0</td>\n",
       "      <td>1</td>\n",
       "      <td>0</td>\n",
       "    </tr>\n",
       "    <tr>\n",
       "      <th>3</th>\n",
       "      <td>1.850.000</td>\n",
       "      <td>90.0</td>\n",
       "      <td>2</td>\n",
       "      <td>2</td>\n",
       "      <td>1</td>\n",
       "      <td>1</td>\n",
       "      <td>1</td>\n",
       "      <td>0</td>\n",
       "      <td>1</td>\n",
       "      <td>0</td>\n",
       "      <td>0</td>\n",
       "      <td>1</td>\n",
       "      <td>0</td>\n",
       "      <td>1</td>\n",
       "      <td>0</td>\n",
       "    </tr>\n",
       "    <tr>\n",
       "      <th>4</th>\n",
       "      <td>1.575.000</td>\n",
       "      <td>60.0</td>\n",
       "      <td>1</td>\n",
       "      <td>2</td>\n",
       "      <td>1</td>\n",
       "      <td>1</td>\n",
       "      <td>1</td>\n",
       "      <td>0</td>\n",
       "      <td>1</td>\n",
       "      <td>1</td>\n",
       "      <td>1</td>\n",
       "      <td>2</td>\n",
       "      <td>0</td>\n",
       "      <td>1</td>\n",
       "      <td>0</td>\n",
       "    </tr>\n",
       "  </tbody>\n",
       "</table>\n",
       "</div>"
      ],
      "text/plain": [
       "        fiyat  net_metrekare  oda_sayısı  dairenin_katı  ısıtma  banyo_sayısı  \\\n",
       "0  1.200.000           100.0           2              2       1             1   \n",
       "1  3.300.000           170.0           4              2       3             2   \n",
       "2  1.320.000            55.0           1              2       1             1   \n",
       "3  1.850.000            90.0           2              2       1             1   \n",
       "4  1.575.000            60.0           1              2       1             1   \n",
       "\n",
       "   tipi  bina_yaşı  site_içerisinde  yapı_durumu  takas  wc_sayısı  yapı_tipi  \\\n",
       "0     1          2                1            1      1          2          0   \n",
       "1     1          0                1            1      1          2          0   \n",
       "2     1          0                1            0      0          1          0   \n",
       "3     1          0                1            0      0          1          0   \n",
       "4     1          0                1            1      1          2          0   \n",
       "\n",
       "   aidat  eşya_durumu  \n",
       "0      1            0  \n",
       "1      1            0  \n",
       "2      1            0  \n",
       "3      1            0  \n",
       "4      1            0  "
      ]
     },
     "execution_count": 75,
     "metadata": {},
     "output_type": "execute_result"
    }
   ],
   "source": [
    "df.head()"
   ]
  },
  {
   "cell_type": "code",
   "execution_count": 76,
   "id": "cc0fff84",
   "metadata": {},
   "outputs": [],
   "source": [
    "for i in range(0,100):\n",
    "    df[\"fiyat\"] = df.fiyat.str.replace(',00'.format(i), '')\n",
    "    df[\"fiyat\"] = df.fiyat.str.replace(',01'.format(i), '')\n",
    "    df[\"fiyat\"] = df.fiyat.str.replace(',02'.format(i), '')\n",
    "    df[\"fiyat\"] = df.fiyat.str.replace(',03'.format(i), '')\n",
    "    df[\"fiyat\"] = df.fiyat.str.replace(',04'.format(i), '')\n",
    "    df[\"fiyat\"] = df.fiyat.str.replace(',05'.format(i), '')\n",
    "    df[\"fiyat\"] = df.fiyat.str.replace(',06'.format(i), '')\n",
    "    df[\"fiyat\"] = df.fiyat.str.replace(',07'.format(i), '')\n",
    "    df[\"fiyat\"] = df.fiyat.str.replace(',08'.format(i), '')\n",
    "    df[\"fiyat\"] = df.fiyat.str.replace(',09'.format(i), '')\n",
    "    df[\"fiyat\"] = df.fiyat.str.replace(',{}'.format(i), '')\n",
    "    df[\"fiyat\"] = df.fiyat.str.replace('.', '')\n"
   ]
  },
  {
   "cell_type": "code",
   "execution_count": 77,
   "id": "c1d21d3c",
   "metadata": {},
   "outputs": [],
   "source": [
    "df['fiyat'] = df['fiyat'].astype(float)"
   ]
  },
  {
   "cell_type": "code",
   "execution_count": 78,
   "id": "321d4f8a",
   "metadata": {},
   "outputs": [
    {
     "data": {
      "text/plain": [
       "0       1200000.0\n",
       "1       3300000.0\n",
       "2       1320000.0\n",
       "3       1850000.0\n",
       "4       1575000.0\n",
       "          ...    \n",
       "715     2190000.0\n",
       "716      850000.0\n",
       "717    12000000.0\n",
       "718     1350000.0\n",
       "719      725000.0\n",
       "Name: fiyat, Length: 720, dtype: float64"
      ]
     },
     "execution_count": 78,
     "metadata": {},
     "output_type": "execute_result"
    }
   ],
   "source": [
    "df[\"fiyat\"]"
   ]
  },
  {
   "cell_type": "code",
   "execution_count": 79,
   "id": "a7e67de3",
   "metadata": {},
   "outputs": [
    {
     "data": {
      "text/plain": [
       "<AxesSubplot:>"
      ]
     },
     "execution_count": 79,
     "metadata": {},
     "output_type": "execute_result"
    },
    {
     "data": {
      "image/png": "[encoded data removed]",
      "text/plain": [
       "<Figure size 1000x700 with 2 Axes>"
      ]
     },
     "metadata": {},
     "output_type": "display_data"
    }
   ],
   "source": [
    "# Özniteliklerin korelasyonunu heatmap ile görelim \n",
    "plt.figure(figsize=(10,7))\n",
    "corr_matrix = df.corr()\n",
    "sns.heatmap(corr_matrix, annot=True)#1 verinin kendisi\n",
    "#anlamlı değil"
   ]
  },
  {
   "cell_type": "code",
   "execution_count": 80,
   "id": "fcf7ae56",
   "metadata": {},
   "outputs": [],
   "source": [
    "df.to_csv(\"önişlemesonrası_data.csv\",index=False)"
   ]
  },
  {
   "cell_type": "code",
   "execution_count": null,
   "id": "48cf3f5e",
   "metadata": {},
   "outputs": [],
   "source": []
  }
 ],
 "metadata": {
  "kernelspec": {
   "display_name": "Python 3 (ipykernel)",
   "language": "python",
   "name": "python3"
  },
  "language_info": {
   "codemirror_mode": {
    "name": "ipython",
    "version": 3
   },
   "file_extension": ".py",
   "mimetype": "text/x-python",
   "name": "python",
   "nbconvert_exporter": "python",
   "pygments_lexer": "ipython3",
   "version": "3.7.16"
  }
 },
 "nbformat": 4,
 "nbformat_minor": 5
}
