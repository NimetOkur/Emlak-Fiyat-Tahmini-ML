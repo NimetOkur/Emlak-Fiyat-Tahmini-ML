{
 "cells": [
  {
   "cell_type": "code",
   "execution_count": 1,
   "id": "2e55033c",
   "metadata": {},
   "outputs": [],
   "source": [
    "import pandas as pd\n",
    "import numpy as np"
   ]
  },
  {
   "cell_type": "code",
   "execution_count": 2,
   "id": "e0c4faa6",
   "metadata": {},
   "outputs": [],
   "source": [
    "data = pd.read_csv('önişlemesonrası_data.csv')"
   ]
  },
  {
   "cell_type": "code",
   "execution_count": 3,
   "id": "af9ed454",
   "metadata": {},
   "outputs": [
    {
     "data": {
      "text/html": [
       "<div>\n",
       "<style scoped>\n",
       "    .dataframe tbody tr th:only-of-type {\n",
       "        vertical-align: middle;\n",
       "    }\n",
       "\n",
       "    .dataframe tbody tr th {\n",
       "        vertical-align: top;\n",
       "    }\n",
       "\n",
       "    .dataframe thead th {\n",
       "        text-align: right;\n",
       "    }\n",
       "</style>\n",
       "<table border=\"1\" class=\"dataframe\">\n",
       "  <thead>\n",
       "    <tr style=\"text-align: right;\">\n",
       "      <th></th>\n",
       "      <th>fiyat</th>\n",
       "      <th>net_metrekare</th>\n",
       "      <th>oda_sayısı</th>\n",
       "      <th>dairenin_katı</th>\n",
       "      <th>ısıtma</th>\n",
       "      <th>banyo_sayısı</th>\n",
       "      <th>tipi</th>\n",
       "      <th>bina_yaşı</th>\n",
       "      <th>site_içerisinde</th>\n",
       "      <th>yapı_durumu</th>\n",
       "      <th>takas</th>\n",
       "      <th>wc_sayısı</th>\n",
       "      <th>yapı_tipi</th>\n",
       "      <th>aidat</th>\n",
       "      <th>eşya_durumu</th>\n",
       "    </tr>\n",
       "  </thead>\n",
       "  <tbody>\n",
       "    <tr>\n",
       "      <th>0</th>\n",
       "      <td>1200000.0</td>\n",
       "      <td>100.0</td>\n",
       "      <td>2</td>\n",
       "      <td>2</td>\n",
       "      <td>1</td>\n",
       "      <td>1</td>\n",
       "      <td>1</td>\n",
       "      <td>2</td>\n",
       "      <td>1</td>\n",
       "      <td>1</td>\n",
       "      <td>1</td>\n",
       "      <td>2</td>\n",
       "      <td>0</td>\n",
       "      <td>1</td>\n",
       "      <td>0</td>\n",
       "    </tr>\n",
       "    <tr>\n",
       "      <th>1</th>\n",
       "      <td>3300000.0</td>\n",
       "      <td>170.0</td>\n",
       "      <td>4</td>\n",
       "      <td>2</td>\n",
       "      <td>3</td>\n",
       "      <td>2</td>\n",
       "      <td>1</td>\n",
       "      <td>0</td>\n",
       "      <td>1</td>\n",
       "      <td>1</td>\n",
       "      <td>1</td>\n",
       "      <td>2</td>\n",
       "      <td>0</td>\n",
       "      <td>1</td>\n",
       "      <td>0</td>\n",
       "    </tr>\n",
       "    <tr>\n",
       "      <th>2</th>\n",
       "      <td>1320000.0</td>\n",
       "      <td>55.0</td>\n",
       "      <td>1</td>\n",
       "      <td>2</td>\n",
       "      <td>1</td>\n",
       "      <td>1</td>\n",
       "      <td>1</td>\n",
       "      <td>0</td>\n",
       "      <td>1</td>\n",
       "      <td>0</td>\n",
       "      <td>0</td>\n",
       "      <td>1</td>\n",
       "      <td>0</td>\n",
       "      <td>1</td>\n",
       "      <td>0</td>\n",
       "    </tr>\n",
       "    <tr>\n",
       "      <th>3</th>\n",
       "      <td>1850000.0</td>\n",
       "      <td>90.0</td>\n",
       "      <td>2</td>\n",
       "      <td>2</td>\n",
       "      <td>1</td>\n",
       "      <td>1</td>\n",
       "      <td>1</td>\n",
       "      <td>0</td>\n",
       "      <td>1</td>\n",
       "      <td>0</td>\n",
       "      <td>0</td>\n",
       "      <td>1</td>\n",
       "      <td>0</td>\n",
       "      <td>1</td>\n",
       "      <td>0</td>\n",
       "    </tr>\n",
       "    <tr>\n",
       "      <th>4</th>\n",
       "      <td>1575000.0</td>\n",
       "      <td>60.0</td>\n",
       "      <td>1</td>\n",
       "      <td>2</td>\n",
       "      <td>1</td>\n",
       "      <td>1</td>\n",
       "      <td>1</td>\n",
       "      <td>0</td>\n",
       "      <td>1</td>\n",
       "      <td>1</td>\n",
       "      <td>1</td>\n",
       "      <td>2</td>\n",
       "      <td>0</td>\n",
       "      <td>1</td>\n",
       "      <td>0</td>\n",
       "    </tr>\n",
       "  </tbody>\n",
       "</table>\n",
       "</div>"
      ],
      "text/plain": [
       "       fiyat  net_metrekare  oda_sayısı  dairenin_katı  ısıtma  banyo_sayısı  \\\n",
       "0  1200000.0          100.0           2              2       1             1   \n",
       "1  3300000.0          170.0           4              2       3             2   \n",
       "2  1320000.0           55.0           1              2       1             1   \n",
       "3  1850000.0           90.0           2              2       1             1   \n",
       "4  1575000.0           60.0           1              2       1             1   \n",
       "\n",
       "   tipi  bina_yaşı  site_içerisinde  yapı_durumu  takas  wc_sayısı  yapı_tipi  \\\n",
       "0     1          2                1            1      1          2          0   \n",
       "1     1          0                1            1      1          2          0   \n",
       "2     1          0                1            0      0          1          0   \n",
       "3     1          0                1            0      0          1          0   \n",
       "4     1          0                1            1      1          2          0   \n",
       "\n",
       "   aidat  eşya_durumu  \n",
       "0      1            0  \n",
       "1      1            0  \n",
       "2      1            0  \n",
       "3      1            0  \n",
       "4      1            0  "
      ]
     },
     "execution_count": 3,
     "metadata": {},
     "output_type": "execute_result"
    }
   ],
   "source": [
    "data.head()"
   ]
  },
  {
   "cell_type": "code",
   "execution_count": 4,
   "id": "adaa40ec",
   "metadata": {},
   "outputs": [],
   "source": [
    "data = data[[\"tipi\",\"net_metrekare\",\"oda_sayısı\",\"bina_yaşı\",\"dairenin_katı\",\"takas\",\"ısıtma\",\"yapı_durumu\",\"yapı_tipi\",\"site_içerisinde\",\n",
    "         \"eşya_durumu\",\"banyo_sayısı\",\"wc_sayısı\",\"fiyat\"]]"
   ]
  },
  {
   "cell_type": "code",
   "execution_count": 5,
   "id": "15c3aad6",
   "metadata": {},
   "outputs": [
    {
     "data": {
      "text/html": [
       "<div>\n",
       "<style scoped>\n",
       "    .dataframe tbody tr th:only-of-type {\n",
       "        vertical-align: middle;\n",
       "    }\n",
       "\n",
       "    .dataframe tbody tr th {\n",
       "        vertical-align: top;\n",
       "    }\n",
       "\n",
       "    .dataframe thead th {\n",
       "        text-align: right;\n",
       "    }\n",
       "</style>\n",
       "<table border=\"1\" class=\"dataframe\">\n",
       "  <thead>\n",
       "    <tr style=\"text-align: right;\">\n",
       "      <th></th>\n",
       "      <th>tipi</th>\n",
       "      <th>net_metrekare</th>\n",
       "      <th>oda_sayısı</th>\n",
       "      <th>bina_yaşı</th>\n",
       "      <th>dairenin_katı</th>\n",
       "      <th>takas</th>\n",
       "      <th>ısıtma</th>\n",
       "      <th>yapı_durumu</th>\n",
       "      <th>yapı_tipi</th>\n",
       "      <th>site_içerisinde</th>\n",
       "      <th>eşya_durumu</th>\n",
       "      <th>banyo_sayısı</th>\n",
       "      <th>wc_sayısı</th>\n",
       "      <th>fiyat</th>\n",
       "    </tr>\n",
       "  </thead>\n",
       "  <tbody>\n",
       "    <tr>\n",
       "      <th>0</th>\n",
       "      <td>1</td>\n",
       "      <td>100.0</td>\n",
       "      <td>2</td>\n",
       "      <td>2</td>\n",
       "      <td>2</td>\n",
       "      <td>1</td>\n",
       "      <td>1</td>\n",
       "      <td>1</td>\n",
       "      <td>0</td>\n",
       "      <td>1</td>\n",
       "      <td>0</td>\n",
       "      <td>1</td>\n",
       "      <td>2</td>\n",
       "      <td>1200000.0</td>\n",
       "    </tr>\n",
       "    <tr>\n",
       "      <th>1</th>\n",
       "      <td>1</td>\n",
       "      <td>170.0</td>\n",
       "      <td>4</td>\n",
       "      <td>0</td>\n",
       "      <td>2</td>\n",
       "      <td>1</td>\n",
       "      <td>3</td>\n",
       "      <td>1</td>\n",
       "      <td>0</td>\n",
       "      <td>1</td>\n",
       "      <td>0</td>\n",
       "      <td>2</td>\n",
       "      <td>2</td>\n",
       "      <td>3300000.0</td>\n",
       "    </tr>\n",
       "    <tr>\n",
       "      <th>2</th>\n",
       "      <td>1</td>\n",
       "      <td>55.0</td>\n",
       "      <td>1</td>\n",
       "      <td>0</td>\n",
       "      <td>2</td>\n",
       "      <td>0</td>\n",
       "      <td>1</td>\n",
       "      <td>0</td>\n",
       "      <td>0</td>\n",
       "      <td>1</td>\n",
       "      <td>0</td>\n",
       "      <td>1</td>\n",
       "      <td>1</td>\n",
       "      <td>1320000.0</td>\n",
       "    </tr>\n",
       "    <tr>\n",
       "      <th>3</th>\n",
       "      <td>1</td>\n",
       "      <td>90.0</td>\n",
       "      <td>2</td>\n",
       "      <td>0</td>\n",
       "      <td>2</td>\n",
       "      <td>0</td>\n",
       "      <td>1</td>\n",
       "      <td>0</td>\n",
       "      <td>0</td>\n",
       "      <td>1</td>\n",
       "      <td>0</td>\n",
       "      <td>1</td>\n",
       "      <td>1</td>\n",
       "      <td>1850000.0</td>\n",
       "    </tr>\n",
       "    <tr>\n",
       "      <th>4</th>\n",
       "      <td>1</td>\n",
       "      <td>60.0</td>\n",
       "      <td>1</td>\n",
       "      <td>0</td>\n",
       "      <td>2</td>\n",
       "      <td>1</td>\n",
       "      <td>1</td>\n",
       "      <td>1</td>\n",
       "      <td>0</td>\n",
       "      <td>1</td>\n",
       "      <td>0</td>\n",
       "      <td>1</td>\n",
       "      <td>2</td>\n",
       "      <td>1575000.0</td>\n",
       "    </tr>\n",
       "  </tbody>\n",
       "</table>\n",
       "</div>"
      ],
      "text/plain": [
       "   tipi  net_metrekare  oda_sayısı  bina_yaşı  dairenin_katı  takas  ısıtma  \\\n",
       "0     1          100.0           2          2              2      1       1   \n",
       "1     1          170.0           4          0              2      1       3   \n",
       "2     1           55.0           1          0              2      0       1   \n",
       "3     1           90.0           2          0              2      0       1   \n",
       "4     1           60.0           1          0              2      1       1   \n",
       "\n",
       "   yapı_durumu  yapı_tipi  site_içerisinde  eşya_durumu  banyo_sayısı  \\\n",
       "0            1          0                1            0             1   \n",
       "1            1          0                1            0             2   \n",
       "2            0          0                1            0             1   \n",
       "3            0          0                1            0             1   \n",
       "4            1          0                1            0             1   \n",
       "\n",
       "   wc_sayısı      fiyat  \n",
       "0          2  1200000.0  \n",
       "1          2  3300000.0  \n",
       "2          1  1320000.0  \n",
       "3          1  1850000.0  \n",
       "4          2  1575000.0  "
      ]
     },
     "execution_count": 5,
     "metadata": {},
     "output_type": "execute_result"
    }
   ],
   "source": [
    "data.head()"
   ]
  },
  {
   "cell_type": "code",
   "execution_count": 6,
   "id": "5892308f",
   "metadata": {},
   "outputs": [],
   "source": [
    "from sklearn.model_selection import learning_curve, RandomizedSearchCV, GridSearchCV\n",
    "from sklearn.model_selection import train_test_split\n",
    "from sklearn.feature_selection import SelectKBest, f_classif, chi2\n",
    "from sklearn.preprocessing import MinMaxScaler, StandardScaler\n",
    "from sklearn.metrics import r2_score, mean_squared_error, mean_absolute_error\n",
    "import warnings\n",
    "warnings.filterwarnings('ignore')"
   ]
  },
  {
   "cell_type": "code",
   "execution_count": 7,
   "id": "9b8a2d06",
   "metadata": {},
   "outputs": [
    {
     "name": "stdout",
     "output_type": "stream",
     "text": [
      "x_train : (576, 13)\n",
      "x_test : (144, 13)\n",
      "y_train : (576,)\n",
      "y_test : (144,)\n"
     ]
    }
   ],
   "source": [
    "#Train Test Bölümlemeleri Oluşturalım\n",
    "from sklearn.model_selection import train_test_split\n",
    "X = data.drop(['fiyat'], axis=1)\n",
    "y = data['fiyat']\n",
    "x_train, x_test, y_train, y_test = train_test_split(X, y, test_size=0.2, random_state=0 )\n",
    "\n",
    "print('x_train :', x_train.shape)\n",
    "print('x_test :', x_test.shape)\n",
    "print('y_train :', y_train.shape)\n",
    "print('y_test :', y_test.shape)"
   ]
  },
  {
   "cell_type": "code",
   "execution_count": 8,
   "id": "2da38995",
   "metadata": {},
   "outputs": [],
   "source": [
    "#Normalize etme\n",
    "from sklearn.preprocessing import StandardScaler\n",
    "scaler= StandardScaler()\n",
    "x_train= scaler.fit_transform(x_train)\n",
    "x_test = scaler.fit_transform(x_test)"
   ]
  },
  {
   "cell_type": "code",
   "execution_count": 9,
   "id": "69ce35cc",
   "metadata": {},
   "outputs": [
    {
     "name": "stdout",
     "output_type": "stream",
     "text": [
      "mean absolute error:  851243.4730261522\n",
      "root mean squared error:  1533051.1853400674\n",
      "Coefficient of determination R^2:  0.31091784328786987\n"
     ]
    }
   ],
   "source": [
    "# Lineer Regresyon \n",
    "from sklearn.linear_model import LinearRegression, Lasso\n",
    "\n",
    "lr = LinearRegression()\n",
    "lr.fit(x_train,y_train)\n",
    "y_predict = lr.predict(x_test) # üretilen modeli (lr) test verisi ile deneyelim\n",
    "\n",
    "print('mean absolute error: ',mean_absolute_error(y_test, y_predict))\n",
    "print('root mean squared error: ',np.sqrt(mean_squared_error(y_test,y_predict)))\n",
    "print('Coefficient of determination R^2: ',r2_score(y_test,y_predict))"
   ]
  },
  {
   "cell_type": "code",
   "execution_count": 10,
   "id": "f650fbe6",
   "metadata": {},
   "outputs": [
    {
     "name": "stdout",
     "output_type": "stream",
     "text": [
      "mean absolute error:  1091279.0404040404\n",
      " root mean squared error:  2388803.235747773\n",
      "Coefficient of determination R^2:  -0.6730867162856504\n"
     ]
    }
   ],
   "source": [
    "from sklearn.tree import DecisionTreeRegressor\n",
    "\n",
    "dt = DecisionTreeRegressor(criterion='mse',splitter='best')\n",
    "dt.fit(x_train,y_train)\n",
    "y_predict_dt = dt.predict(x_test)\n",
    "\n",
    "print('mean absolute error: ',mean_absolute_error(y_test, y_predict_dt))\n",
    "print(' root mean squared error: ',np.sqrt(mean_squared_error(y_test,y_predict_dt)))\n",
    "print('Coefficient of determination R^2: ',r2_score(y_test,y_predict_dt))"
   ]
  },
  {
   "cell_type": "code",
   "execution_count": 11,
   "id": "46973602",
   "metadata": {},
   "outputs": [
    {
     "name": "stdout",
     "output_type": "stream",
     "text": [
      "mean absolute error:  851243.4722142856\n",
      " root mean squared error:  1533051.1841216849\n",
      "Coefficient of determination R^2:  0.31091784438315695\n"
     ]
    }
   ],
   "source": [
    "lasso = Lasso(alpha=0.001)\n",
    "lasso.fit(x_train,y_train)\n",
    "y_predict_lasso = lasso.predict(x_test) \n",
    "\n",
    "print('mean absolute error: ',mean_absolute_error(y_test, y_predict_lasso))\n",
    "print(' root mean squared error: ',np.sqrt(mean_squared_error(y_test,y_predict_lasso)))\n",
    "print('Coefficient of determination R^2: ',r2_score(y_test,y_predict_lasso))"
   ]
  },
  {
   "cell_type": "code",
   "execution_count": 12,
   "id": "80d46035",
   "metadata": {},
   "outputs": [
    {
     "name": "stdout",
     "output_type": "stream",
     "text": [
      "mean absolute error:  797521.2031775247\n",
      "root mean squared error:  1575556.3200801266\n",
      "Coefficient of determination R^2:  0.27217736464054043\n"
     ]
    }
   ],
   "source": [
    "from sklearn.ensemble import RandomForestRegressor \n",
    "\n",
    "rf = RandomForestRegressor()\n",
    "rf.fit(x_train,y_train)\n",
    "y_predict_rf = rf.predict(x_test)\n",
    "\n",
    "print('mean absolute error: ',mean_absolute_error(y_test, y_predict_rf))\n",
    "print('root mean squared error: ',np.sqrt(mean_squared_error(y_test,y_predict_rf)))\n",
    "print('Coefficient of determination R^2: ',r2_score(y_test,y_predict_rf))"
   ]
  },
  {
   "cell_type": "code",
   "execution_count": 13,
   "id": "8ede7135",
   "metadata": {},
   "outputs": [
    {
     "name": "stdout",
     "output_type": "stream",
     "text": [
      "ElasticNet Regresyon:\n",
      "RMSE: 1147673.245270648\n",
      "MAE: 684805.7467460108\n",
      "R²: 0.3960053815017567\n"
     ]
    }
   ],
   "source": [
    "from sklearn.linear_model import ElasticNet\n",
    "from sklearn.model_selection import train_test_split\n",
    "from sklearn.metrics import mean_squared_error, mean_absolute_error, r2_score\n",
    "\n",
    "# Bağımsız ve bağımlı değişkenleri belirleme\n",
    "X = data.drop(['fiyat'], axis=1) \n",
    "y = data['fiyat']\n",
    "\n",
    "# Veri setini eğitim ve test olarak bölmek\n",
    "X_train, X_test, y_train, y_test = train_test_split(X, y, test_size=0.2, random_state=42)\n",
    " #ElasticNet Regresyon modeli\n",
    "elasticnet_model = ElasticNet()\n",
    "elasticnet_model.fit(X_train, y_train)\n",
    "elasticnet_predictions = elasticnet_model.predict(X_test)\n",
    "\n",
    "# Metrikleri hesaplama\n",
    "elasticnet_rmse = mean_squared_error(y_test, elasticnet_predictions, squared=False)\n",
    "elasticnet_mae = mean_absolute_error(y_test, elasticnet_predictions)\n",
    "elasticnet_r2 = r2_score(y_test, elasticnet_predictions)\n",
    "\n",
    "# Sonuçları yazdırma\n",
    "print(\"ElasticNet Regresyon:\")\n",
    "print(\"RMSE:\", elasticnet_rmse)\n",
    "print(\"MAE:\", elasticnet_mae)\n",
    "print(\"R²:\", elasticnet_r2)\n"
   ]
  },
  {
   "cell_type": "code",
   "execution_count": 14,
   "id": "90b4f5d7",
   "metadata": {},
   "outputs": [
    {
     "name": "stdout",
     "output_type": "stream",
     "text": [
      "Gradient Boosting Regresyon:\n",
      "RMSE: 1246204.9400239068\n",
      "MAE: 651598.4121183871\n",
      "R²: 0.28784342008215447\n"
     ]
    }
   ],
   "source": [
    "from sklearn.ensemble import GradientBoostingRegressor\n",
    "\n",
    "# Gradient Boosting Regresyon modeli\n",
    "gb_model = GradientBoostingRegressor()\n",
    "gb_model.fit(X_train, y_train)\n",
    "gb_predictions = gb_model.predict(X_test)\n",
    "\n",
    "# Metrikleri hesaplama\n",
    "gb_rmse = mean_squared_error(y_test, gb_predictions, squared=False)\n",
    "gb_mae = mean_absolute_error(y_test, gb_predictions)\n",
    "gb_r2 = r2_score(y_test, gb_predictions)\n",
    "\n",
    "# Sonuçları yazdırma\n",
    "print(\"Gradient Boosting Regresyon:\")\n",
    "print(\"RMSE:\", gb_rmse)\n",
    "print(\"MAE:\", gb_mae)\n",
    "print(\"R²:\", gb_r2)\n"
   ]
  },
  {
   "cell_type": "code",
   "execution_count": 15,
   "id": "b28dc4a2",
   "metadata": {},
   "outputs": [
    {
     "name": "stdout",
     "output_type": "stream",
     "text": [
      "Bayesian Ridge Regresyon:\n",
      "RMSE: 1202569.5749640185\n",
      "MAE: 756385.2600327871\n",
      "R²: 0.33684205317886995\n"
     ]
    }
   ],
   "source": [
    "from sklearn.linear_model import BayesianRidge\n",
    "\n",
    "# Bayesian Ridge Regresyon modeli\n",
    "bayesianridge_model = BayesianRidge()\n",
    "bayesianridge_model.fit(X_train, y_train)\n",
    "bayesianridge_predictions = bayesianridge_model.predict(X_test)\n",
    "\n",
    "# Metrikleri hesaplama\n",
    "bayesianridge_rmse = mean_squared_error(y_test, bayesianridge_predictions, squared=False)\n",
    "bayesianridge_mae = mean_absolute_error(y_test, bayesianridge_predictions)\n",
    "bayesianridge_r2 = r2_score(y_test, bayesianridge_predictions)\n",
    "\n",
    "# Sonuçları yazdırma\n",
    "print(\"Bayesian Ridge Regresyon:\")\n",
    "print(\"RMSE:\", bayesianridge_rmse)\n",
    "print(\"MAE:\", bayesianridge_mae)\n",
    "print(\"R²:\", bayesianridge_r2)\n"
   ]
  },
  {
   "cell_type": "code",
   "execution_count": 16,
   "id": "e936fa99",
   "metadata": {},
   "outputs": [
    {
     "name": "stdout",
     "output_type": "stream",
     "text": [
      "Mean Squared Error: 2269492175906.118\n",
      "R-squared: -0.040699256146261575\n",
      "Root Mean Squared Error: 1506483.3805608738\n"
     ]
    }
   ],
   "source": [
    "from sklearn.svm import SVR\n",
    "from sklearn.datasets import make_regression\n",
    "import math\n",
    "\n",
    "# SVR modeli \n",
    "svr = SVR(kernel='rbf') \n",
    "svr.fit(X_train, y_train)\n",
    "\n",
    "# Modeli kullanarak tahmin yapma\n",
    "y_pred = svr.predict(X_test)\n",
    "\n",
    "# Model performansını değerlendirme\n",
    "mse = mean_squared_error(y_test, y_pred)\n",
    "r2 = r2_score(y_test, y_pred)\n",
    "rmse = math.sqrt(mse)\n",
    "\n",
    "print(f\"Mean Squared Error: {mse}\")\n",
    "print(f\"R-squared: {r2}\")\n",
    "print(f\"Root Mean Squared Error: {rmse}\")"
   ]
  },
  {
   "cell_type": "code",
   "execution_count": 17,
   "id": "cb0fd7da",
   "metadata": {},
   "outputs": [],
   "source": [
    "#R^2 değeri 1 e daha yakın\n",
    "#root mean squared error (RMSE) değeri 0 a daha yakın daha küçük"
   ]
  },
  {
   "cell_type": "code",
   "execution_count": 18,
   "id": "b9b6381b",
   "metadata": {},
   "outputs": [
    {
     "name": "stdout",
     "output_type": "stream",
     "text": [
      "Fitting 3 folds for each of 15 candidates, totalling 45 fits\n"
     ]
    },
    {
     "data": {
      "text/plain": [
       "GridSearchCV(cv=3,\n",
       "             estimator=RandomForestRegressor(bootstrap=False, random_state=42),\n",
       "             param_grid={'max_leaf_nodes': [0, 1, 2, 3, 4],\n",
       "                         'n_estimators': [10, 20, 50]},\n",
       "             verbose=1)"
      ]
     },
     "execution_count": 18,
     "metadata": {},
     "output_type": "execute_result"
    }
   ],
   "source": [
    "#Fine Tuning Grid Search\n",
    "from sklearn.model_selection import GridSearchCV\n",
    "# tüm parametreler için değil sadece iki temel parametre için arama yapıyoruz!!!\n",
    "params_grid = {\n",
    "    'n_estimators':[10,20,50],\n",
    "    'max_leaf_nodes':list(range(0,5))}\n",
    "\n",
    "\n",
    "grid_search = GridSearchCV(RandomForestRegressor(min_samples_split=2,bootstrap=False,random_state=42), params_grid, verbose=1, cv=3)\n",
    "\n",
    "grid_search.fit(x_train, y_train)"
   ]
  },
  {
   "cell_type": "code",
   "execution_count": 19,
   "id": "461cc945",
   "metadata": {},
   "outputs": [
    {
     "data": {
      "text/plain": [
       "{'max_leaf_nodes': 2, 'n_estimators': 50}"
      ]
     },
     "execution_count": 19,
     "metadata": {},
     "output_type": "execute_result"
    }
   ],
   "source": [
    "grid_search.best_params_"
   ]
  },
  {
   "cell_type": "code",
   "execution_count": 20,
   "id": "5345e648",
   "metadata": {},
   "outputs": [
    {
     "name": "stdout",
     "output_type": "stream",
     "text": [
      "mean absolute error:  874060.0183907025\n",
      "root mean squared error:  1481066.325927225\n",
      "Coefficient of determination R^2:  -0.005878602728949911\n"
     ]
    }
   ],
   "source": [
    "# bulduğumuz parametrelerle test edelim\n",
    "from sklearn.ensemble import RandomForestRegressor\n",
    "import matplotlib.pyplot as plt\n",
    "rf = RandomForestRegressor(n_estimators=50,max_leaf_nodes=2)\n",
    "rf.fit(x_train,y_train)\n",
    "y_predict_rf = rf.predict(x_test)\n",
    "print('mean absolute error: ',mean_absolute_error(y_test, y_predict_rf))\n",
    "print('root mean squared error: ',np.sqrt(mean_squared_error(y_test,y_predict_rf)))\n",
    "print('Coefficient of determination R^2: ',r2_score(y_test,y_predict_rf))"
   ]
  },
  {
   "cell_type": "code",
   "execution_count": 22,
   "id": "b52e8eda",
   "metadata": {},
   "outputs": [
    {
     "data": {
      "text/plain": [
       "['../makine_öğrenmesi/servisleme/random_forest_model.pkl']"
      ]
     },
     "execution_count": 22,
     "metadata": {},
     "output_type": "execute_result"
    }
   ],
   "source": [
    "import joblib\n",
    "joblib.dump(rf, \"../makine_öğrenmesi/servisleme/random_forest_model.pkl\")"
   ]
  },
  {
   "cell_type": "code",
   "execution_count": null,
   "id": "e31e6f48",
   "metadata": {},
   "outputs": [],
   "source": []
  }
 ],
 "metadata": {
  "kernelspec": {
   "display_name": "Python 3 (ipykernel)",
   "language": "python",
   "name": "python3"
  },
  "language_info": {
   "codemirror_mode": {
    "name": "ipython",
    "version": 3
   },
   "file_extension": ".py",
   "mimetype": "text/x-python",
   "name": "python",
   "nbconvert_exporter": "python",
   "pygments_lexer": "ipython3",
   "version": "3.7.16"
  }
 },
 "nbformat": 4,
 "nbformat_minor": 5
}
