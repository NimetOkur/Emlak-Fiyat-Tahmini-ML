{
 "cells": [
  {
   "cell_type": "code",
   "execution_count": 1,
   "id": "b18b35fa",
   "metadata": {},
   "outputs": [],
   "source": [
    "import joblib "
   ]
  },
  {
   "cell_type": "code",
   "execution_count": 3,
   "id": "986a1767",
   "metadata": {},
   "outputs": [],
   "source": [
    "import joblib \n",
    "def predict (data):\n",
    "    rf=joblib.load('random_forest_model.pkl')\n",
    "    return rf.predict(data)"
   ]
  },
  {
   "cell_type": "code",
   "execution_count": null,
   "id": "7fb1259f",
   "metadata": {},
   "outputs": [],
   "source": []
  }
 ],
 "metadata": {
  "kernelspec": {
   "display_name": "Python 3 (ipykernel)",
   "language": "python",
   "name": "python3"
  },
  "language_info": {
   "codemirror_mode": {
    "name": "ipython",
    "version": 3
   },
   "file_extension": ".py",
   "mimetype": "text/x-python",
   "name": "python",
   "nbconvert_exporter": "python",
   "pygments_lexer": "ipython3",
   "version": "3.11.5"
  }
 },
 "nbformat": 4,
 "nbformat_minor": 5
}
