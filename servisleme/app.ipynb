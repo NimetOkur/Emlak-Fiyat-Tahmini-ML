{
 "cells": [
  {
   "cell_type": "code",
   "execution_count": 1,
   "id": "acf088c8",
   "metadata": {},
   "outputs": [],
   "source": [
    "#app.py\n",
    "import streamlit as st\n",
    "import numpy as np\n",
    "import joblib\n",
    "from predict_cost import predict"
   ]
  },
  {
   "cell_type": "code",
   "execution_count": 2,
   "id": "8cd42d38",
   "metadata": {},
   "outputs": [
    {
     "name": "stderr",
     "output_type": "stream",
     "text": [
      "2023-12-24 14:50:40.522 \n",
      "  \u001b[33m\u001b[1mWarning:\u001b[0m to view this Streamlit app on a browser, run it with the following\n",
      "  command:\n",
      "\n",
      "    streamlit run C:\\Users\\okurn\\.conda\\envs\\py37\\lib\\site-packages\\ipykernel_launcher.py [ARGUMENTS]\n"
     ]
    }
   ],
   "source": [
    "st.markdown('SATILIK KONUT FİYAT TAHMİNİ')\n",
    "st.write('---------------------')\n",
    "ev_türü= st.number_input('0=Bina / 1=Daire / 2=Dağ Evi / 3=Köy Evi / 4=Müstakil Ev / 5=Villa / 6=Yazlık')\n",
    "metrekare= st.number_input('0 dan büyük bir metrekare bilgisi giriniz',key=\"input_1\")\n",
    "oda_sayısı = st.number_input('ODA SAYISI (0=1 odalı / 1=2 odalı / 2=3 odalı / 3=4 odalı / 4=4 ve üzeri)',key=\"input_2\")\n",
    "bina_yaşı = st.number_input('BİNA YAŞI (0=0-5 yaş / 1=10-25 yaş / 2=5-10 yaş)',key=\"input_3\")\n",
    "dairenin_katı = st.number_input('DAİRE KATI (0 =-1.kat / 1 =-3.kat / 2 =1-10 katları / 3=11-20 katları  / 4=diğer',key=\"input_4\")\n",
    "takas = st.number_input('TAKAS (0=VAR /1=YOK)',key=\"input_5\")\n",
    "ısıtma = st.number_input('ISITMA TÜRÜ (0=diğer / 1=doğalgaz / 2=klimalı / 3=sobalı / 4=şömine)', key=\"input_6\")\n",
    "yapı_durumu = st.number_input('YAPI DURUMU(0=Sıfır / 1=İkinci El)', key=\"input_7\") \n",
    "yapı_tipi = st.number_input('YAPI TİPİ (0=Betonarme / 1=Kagir / 2=Prefabrik / 3=Çelik)', key=\"input_8\")\n",
    "site_içerisinde = st.number_input('SİTE İÇERİSİNDE (0=evet / 1=hayır)',key=\"input_9\")\n",
    "eşya_durumu = st.number_input('EŞYA DURUMU (0=Boş / 1=Eşyalı)', key=\"input_10\")\n",
    "banyo_sayısı = st.number_input('BANYO SAYISI (0-5 arası değer giriniz)',key=\"input_11\")\n",
    "wc_sayısı = st.number_input('WC SAYISI (0-5 arası değer giriniz)', key=\"input_12\")\n",
    "#tahmin butonu\n",
    "\n",
    "if st.button('Ev fiyatını tahmin et'):\n",
    "        fiyat=predict(np.array([[ev_türü,metrekare,oda_sayısı,bina_yaşı,dairenin_katı,takas,ısıtma,yapı_durumu,yapı_tipi,site_içerisinde,eşya_durumu,banyo_sayısı,wc_sayısı]]))\n",
    "        st.write(f\"Tahmin Edilen Fiyat: {fiyat[0]:,.2f} TL\")"
   ]
  },
  {
   "cell_type": "code",
   "execution_count": null,
   "id": "1ac002af",
   "metadata": {},
   "outputs": [],
   "source": []
  }
 ],
 "metadata": {
  "kernelspec": {
   "display_name": "Python 3 (ipykernel)",
   "language": "python",
   "name": "python3"
  },
  "language_info": {
   "codemirror_mode": {
    "name": "ipython",
    "version": 3
   },
   "file_extension": ".py",
   "mimetype": "text/x-python",
   "name": "python",
   "nbconvert_exporter": "python",
   "pygments_lexer": "ipython3",
   "version": "3.11.5"
  }
 },
 "nbformat": 4,
 "nbformat_minor": 5
}
